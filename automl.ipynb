{
  "cells": [
    {
      "cell_type": "markdown",
      "source": [
        "# Automated ML\n",
        "\n",
        "Requisite Dependencies for the Project is imported as below"
      ],
      "metadata": {}
    },
    {
      "cell_type": "code",
      "source": [
        "from azureml.core import Workspace\r\n",
        "from azureml.core.experiment import Experiment\r\n",
        "from azureml.data.dataset_factory import TabularDatasetFactory\r\n",
        "from azureml.core import  Dataset\r\n",
        "import shutil\r\n",
        "import os\r\n",
        "import zipfile\r\n",
        "import pandas as pd\r\n",
        "from azureml.train.automl import AutoMLConfig\r\n",
        "import json\r\n",
        "from azureml.widgets import RunDetails\r\n",
        "import joblib"
      ],
      "outputs": [],
      "execution_count": 1,
      "metadata": {
        "gather": {
          "logged": 1627881351093
        },
        "jupyter": {
          "outputs_hidden": false,
          "source_hidden": false
        },
        "nteract": {
          "transient": {
            "deleting": false
          }
        }
      }
    },
    {
      "cell_type": "markdown",
      "source": [
        "## Workspace\r\n",
        "\r\n",
        "Gather Workspace details from the config file and create and Experiment to run the AutoML."
      ],
      "metadata": {
        "nteract": {
          "transient": {
            "deleting": false
          }
        }
      }
    },
    {
      "cell_type": "code",
      "source": [
        "ws = Workspace.from_config()\n",
        "# choose a name for experiment\n",
        "experiment_name = 'automl_capstone_exp'\n",
        "experiment=Experiment(ws, experiment_name)"
      ],
      "outputs": [],
      "execution_count": 2,
      "metadata": {
        "gather": {
          "logged": 1627881354546
        },
        "jupyter": {
          "outputs_hidden": false,
          "source_hidden": false
        },
        "nteract": {
          "transient": {
            "deleting": false
          }
        }
      }
    },
    {
      "cell_type": "markdown",
      "source": [
        "## Dataset\n",
        "Reference:https://www.kaggle.com/andrewmvd/heart-failure-clinical-data?select=heart_failure_clinical_records_dataset.csv\n",
        "\n",
        "### Overview\n",
        "This dataset contains 12 features that can be used to predict mortality by heart failure denoted by the dependent variable DEATH_EVENT\n",
        "\n",
        "Goal :To predict the DEATH EVENT(0 or 1) of a record.\n",
        "\n",
        "\n"
      ],
      "metadata": {}
    },
    {
      "cell_type": "markdown",
      "source": [
        "### Loading the Data from Kaggle"
      ],
      "metadata": {
        "nteract": {
          "transient": {
            "deleting": false
          }
        }
      }
    },
    {
      "cell_type": "code",
      "source": [
        "#Load Data for the AutoML model\r\n",
        "!pip install kaggle"
      ],
      "outputs": [
        {
          "output_type": "stream",
          "name": "stdout",
          "text": [
            "Collecting kaggle\n",
            "  Downloading kaggle-1.5.12.tar.gz (58 kB)\n",
            "\u001b[K     |████████████████████████████████| 58 kB 769 kB/s  eta 0:00:01\n",
            "\u001b[?25hRequirement already satisfied: six>=1.10 in /anaconda/envs/azureml_py36/lib/python3.6/site-packages (from kaggle) (1.16.0)\n",
            "Requirement already satisfied: certifi in /anaconda/envs/azureml_py36/lib/python3.6/site-packages (from kaggle) (2021.5.30)\n",
            "Requirement already satisfied: python-dateutil in /anaconda/envs/azureml_py36/lib/python3.6/site-packages (from kaggle) (2.8.1)\n",
            "Requirement already satisfied: requests in /anaconda/envs/azureml_py36/lib/python3.6/site-packages (from kaggle) (2.25.1)\n",
            "Requirement already satisfied: tqdm in /anaconda/envs/azureml_py36/lib/python3.6/site-packages (from kaggle) (4.61.1)\n",
            "Collecting python-slugify\n",
            "  Downloading python_slugify-5.0.2-py2.py3-none-any.whl (6.7 kB)\n",
            "Requirement already satisfied: urllib3 in /anaconda/envs/azureml_py36/lib/python3.6/site-packages (from kaggle) (1.25.11)\n",
            "Requirement already satisfied: chardet<5,>=3.0.2 in /anaconda/envs/azureml_py36/lib/python3.6/site-packages (from requests->kaggle) (4.0.0)\n",
            "Requirement already satisfied: idna<3,>=2.5 in /anaconda/envs/azureml_py36/lib/python3.6/site-packages (from requests->kaggle) (2.10)\n",
            "Collecting text-unidecode>=1.3\n",
            "  Downloading text_unidecode-1.3-py2.py3-none-any.whl (78 kB)\n",
            "\u001b[K     |████████████████████████████████| 78 kB 3.1 MB/s  eta 0:00:01\n",
            "\u001b[?25hBuilding wheels for collected packages: kaggle\n",
            "  Building wheel for kaggle (setup.py) ... \u001b[?25l-\b \b\\\b \bdone\n",
            "\u001b[?25h  Created wheel for kaggle: filename=kaggle-1.5.12-py3-none-any.whl size=73053 sha256=00d97d5b013baadc884746b68c45019c34777bb8bce443c2df8f77472ec93c7f\n",
            "  Stored in directory: /home/azureuser/.cache/pip/wheels/77/47/e4/44a4ba1b7dfd53faaa35f59f1175e123b213ff401a8a56876b\n",
            "Successfully built kaggle\n",
            "Installing collected packages: text-unidecode, python-slugify, kaggle\n",
            "Successfully installed kaggle-1.5.12 python-slugify-5.0.2 text-unidecode-1.3\n"
          ]
        }
      ],
      "execution_count": 3,
      "metadata": {
        "collapsed": true,
        "jupyter": {
          "source_hidden": false,
          "outputs_hidden": false
        },
        "nteract": {
          "transient": {
            "deleting": false
          }
        },
        "gather": {
          "logged": 1627881365549
        }
      }
    },
    {
      "cell_type": "code",
      "source": [
        "#Create Data Folder and Kaggle Folder (Ref:https://inclusive-ai.medium.com/how-to-use-kaggle-api-with-azure-machine-learning-service-da056708fc5a)\r\n",
        "data_folder = os.path.join(os.getcwd(),'data')\r\n",
        "os.makedirs(data_folder, exist_ok=True)\r\n",
        "kaggle_folder = os.path.join(os.getcwd(), '.kaggle')\r\n",
        "os.makedirs(kaggle_folder, exist_ok=True)\r\n",
        "kaggle_key_folder = '/home/azureuser/.kaggle'\r\n",
        "os.makedirs(kaggle_key_folder, exist_ok=True)"
      ],
      "outputs": [],
      "execution_count": 4,
      "metadata": {
        "collapsed": true,
        "jupyter": {
          "source_hidden": false,
          "outputs_hidden": false
        },
        "nteract": {
          "transient": {
            "deleting": false
          }
        },
        "gather": {
          "logged": 1627881682590
        }
      }
    },
    {
      "cell_type": "code",
      "source": [
        "#Upload the kaggle.json(Generated from Kaggle account Page) generated from kaggle in .kaggle folder\r\n",
        "\r\n",
        "kaggle_file = kaggle_folder + '/kaggle.json'\r\n",
        "shutil.copy(kaggle_file, kaggle_key_folder)\r\n",
        "os.remove(kaggle_file)\r\n",
        "!chmod 600 /home/azureuser/.kaggle/kaggle.json\r\n",
        "\r\n",
        "#Data Download\r\n",
        "import kaggle\r\n",
        "!kaggle --version\r\n",
        "!kaggle datasets download -d andrewmvd/heart-failure-clinical-data\r\n"
      ],
      "outputs": [
        {
          "output_type": "stream",
          "name": "stdout",
          "text": [
            "Kaggle API 1.5.12\n",
            "Downloading heart-failure-clinical-data.zip to /mnt/batch/tasks/shared/LS_root/mounts/clusters/heartcompute/code/Users/mashrajiv\n",
            "100%|██████████████████████████████████████| 3.97k/3.97k [00:00<00:00, 21.7kB/s]\n",
            "100%|██████████████████████████████████████| 3.97k/3.97k [00:00<00:00, 20.5kB/s]\n"
          ]
        }
      ],
      "execution_count": 5,
      "metadata": {
        "collapsed": true,
        "jupyter": {
          "source_hidden": false,
          "outputs_hidden": false
        },
        "nteract": {
          "transient": {
            "deleting": false
          }
        },
        "gather": {
          "logged": 1627881908520
        }
      }
    },
    {
      "cell_type": "code",
      "source": [
        "with zipfile.ZipFile(\"heart-failure-clinical-data.zip\",\"r\") as zip_ref:\r\n",
        "    zip_ref.extractall(data_folder)\r\n",
        "\r\n",
        "\r\n",
        "#View the Unzipped Files\r\n",
        "for root, directories, files in os.walk(data_folder, topdown=True):\r\n",
        "    for name in files:\r\n",
        "        print(os.path.join(root, name))"
      ],
      "outputs": [
        {
          "output_type": "stream",
          "name": "stdout",
          "text": [
            "/mnt/batch/tasks/shared/LS_root/mounts/clusters/heartcompute/code/Users/mashrajiv/data/heart_failure_clinical_records_dataset.csv\n"
          ]
        }
      ],
      "execution_count": 6,
      "metadata": {
        "collapsed": true,
        "jupyter": {
          "source_hidden": false,
          "outputs_hidden": false
        },
        "nteract": {
          "transient": {
            "deleting": false
          }
        },
        "gather": {
          "logged": 1627881915487
        }
      }
    },
    {
      "cell_type": "code",
      "source": [
        "#Load the CSV into Data Frames\r\n",
        "\r\n",
        "#train_properties_file = '/mnt/batch/tasks/shared/LS_root/mounts/clusters/mnistcompute/code/Users/mashrajiv/data/train.csv'\r\n",
        "#test_properties_file = '/mnt/batch/tasks/shared/LS_root/mounts/clusters/mnistcompute/code/Users/mashrajiv/data/test.csv'\r\n",
        "train = pd.read_csv('./data/heart_failure_clinical_records_dataset.csv')\r\n"
      ],
      "outputs": [],
      "execution_count": 7,
      "metadata": {
        "collapsed": true,
        "jupyter": {
          "source_hidden": false,
          "outputs_hidden": false
        },
        "nteract": {
          "transient": {
            "deleting": false
          }
        },
        "gather": {
          "logged": 1627881921286
        }
      }
    },
    {
      "cell_type": "code",
      "source": [
        "datastore  = ws.get_default_datastore()\r\n",
        "datastore.upload('./data','./data_ds')\r\n",
        "datastore_paths = [(datastore, 'data_ds/heart_failure_clinical_records_dataset.csv')]\r\n",
        "heart_ds = Dataset.Tabular.from_delimited_files(path=datastore_paths)\r\n"
      ],
      "outputs": [
        {
          "output_type": "stream",
          "name": "stdout",
          "text": [
            "Uploading an estimated of 1 files\n",
            "Uploading ./data/heart_failure_clinical_records_dataset.csv\n",
            "Uploaded ./data/heart_failure_clinical_records_dataset.csv, 1 files out of an estimated total of 1\n",
            "Uploaded 1 files\n"
          ]
        },
        {
          "output_type": "execute_result",
          "execution_count": 8,
          "data": {
            "text/plain": "    age  anaemia  creatinine_phosphokinase  diabetes  ejection_fraction  \\\n0  75.0        0                       582         0                 20   \n1  55.0        0                      7861         0                 38   \n2  65.0        0                       146         0                 20   \n\n   high_blood_pressure  platelets  serum_creatinine  serum_sodium  sex  \\\n0                    1  265000.00               1.9           130    1   \n1                    0  263358.03               1.1           136    1   \n2                    0  162000.00               1.3           129    1   \n\n   smoking  time  DEATH_EVENT  \n0        0     4            1  \n1        0     6            1  \n2        1     7            1  ",
            "text/html": "<div>\n<style scoped>\n    .dataframe tbody tr th:only-of-type {\n        vertical-align: middle;\n    }\n\n    .dataframe tbody tr th {\n        vertical-align: top;\n    }\n\n    .dataframe thead th {\n        text-align: right;\n    }\n</style>\n<table border=\"1\" class=\"dataframe\">\n  <thead>\n    <tr style=\"text-align: right;\">\n      <th></th>\n      <th>age</th>\n      <th>anaemia</th>\n      <th>creatinine_phosphokinase</th>\n      <th>diabetes</th>\n      <th>ejection_fraction</th>\n      <th>high_blood_pressure</th>\n      <th>platelets</th>\n      <th>serum_creatinine</th>\n      <th>serum_sodium</th>\n      <th>sex</th>\n      <th>smoking</th>\n      <th>time</th>\n      <th>DEATH_EVENT</th>\n    </tr>\n  </thead>\n  <tbody>\n    <tr>\n      <th>0</th>\n      <td>75.0</td>\n      <td>0</td>\n      <td>582</td>\n      <td>0</td>\n      <td>20</td>\n      <td>1</td>\n      <td>265000.00</td>\n      <td>1.9</td>\n      <td>130</td>\n      <td>1</td>\n      <td>0</td>\n      <td>4</td>\n      <td>1</td>\n    </tr>\n    <tr>\n      <th>1</th>\n      <td>55.0</td>\n      <td>0</td>\n      <td>7861</td>\n      <td>0</td>\n      <td>38</td>\n      <td>0</td>\n      <td>263358.03</td>\n      <td>1.1</td>\n      <td>136</td>\n      <td>1</td>\n      <td>0</td>\n      <td>6</td>\n      <td>1</td>\n    </tr>\n    <tr>\n      <th>2</th>\n      <td>65.0</td>\n      <td>0</td>\n      <td>146</td>\n      <td>0</td>\n      <td>20</td>\n      <td>0</td>\n      <td>162000.00</td>\n      <td>1.3</td>\n      <td>129</td>\n      <td>1</td>\n      <td>1</td>\n      <td>7</td>\n      <td>1</td>\n    </tr>\n  </tbody>\n</table>\n</div>"
          },
          "metadata": {}
        }
      ],
      "execution_count": 8,
      "metadata": {
        "collapsed": true,
        "jupyter": {
          "source_hidden": false,
          "outputs_hidden": false
        },
        "nteract": {
          "transient": {
            "deleting": false
          }
        },
        "gather": {
          "logged": 1627881946493
        }
      }
    },
    {
      "cell_type": "code",
      "source": [
        "heart_df =heart_ds.to_pandas_dataframe()"
      ],
      "outputs": [],
      "execution_count": 10,
      "metadata": {
        "collapsed": true,
        "jupyter": {
          "source_hidden": false,
          "outputs_hidden": false
        },
        "nteract": {
          "transient": {
            "deleting": false
          }
        },
        "gather": {
          "logged": 1627881993795
        }
      }
    },
    {
      "cell_type": "markdown",
      "source": [
        "### Compute Creation"
      ],
      "metadata": {
        "nteract": {
          "transient": {
            "deleting": false
          }
        }
      }
    },
    {
      "cell_type": "code",
      "source": [
        "#Required incase Local instance is not used\r\n",
        "from azureml.core.compute import ComputeTarget, AmlCompute\r\n",
        "from azureml.core.compute_target import ComputeTargetException\r\n",
        "\r\n",
        "# Choose a name for your CPU cluster\r\n",
        "cpu_cluster_name = \"cpucluster\"\r\n",
        "\r\n",
        "# Verify that cluster does not exist already\r\n",
        "try:\r\n",
        "    compute_target = ComputeTarget(workspace=ws, name=cpu_cluster_name)\r\n",
        "    print('Found existing cluster, use it.')\r\n",
        "except ComputeTargetException:\r\n",
        "    compute_config = AmlCompute.provisioning_configuration(vm_size='STANDARD_DS12_V2',\r\n",
        "                                                           max_nodes=6)\r\n",
        "    compute_target = ComputeTarget.create(ws, cpu_cluster_name, compute_config)\r\n",
        "\r\n",
        "compute_target.wait_for_completion(show_output=True)"
      ],
      "outputs": [
        {
          "output_type": "stream",
          "name": "stdout",
          "text": [
            "Creating......\n",
            "SucceededProvisioning operation finished, operation \"Succeeded\"\n",
            "Succeeded\n",
            "AmlCompute wait for completion finished\n",
            "\n",
            "Minimum number of nodes requested have been provisioned\n"
          ]
        }
      ],
      "execution_count": 12,
      "metadata": {
        "collapsed": true,
        "jupyter": {
          "source_hidden": false,
          "outputs_hidden": false
        },
        "nteract": {
          "transient": {
            "deleting": false
          }
        },
        "gather": {
          "logged": 1627882059935
        }
      }
    },
    {
      "cell_type": "markdown",
      "source": [
        "## AutoML Configuration\n",
        "\n",
        "Choice of AutoML Settings:\n",
        " \n",
        "#### 1. n_cross_validation \n",
        "Indicates how many cross validations to perform and in our case splitting it into 5 portions will ensure that we have ~240 records for training and ~60 for validation.\n",
        " \n",
        "#### 2. Primary Metric\n",
        "Primary metric chosen here is accuracy to understand how much of the sample has been correctly classified.We could also use AUC as metric where we can see multiple one versus all Precision recall curves for each of the MNIST digits\n",
        "\n",
        "#### 3. enable early stopping\n",
        "Early stopping is enabled to prevent overfitting\n",
        "\n",
        "#### 4. Experiment Stop time \n",
        "To handle costs and time\n",
        "\n",
        "#### 5.Created compute\n",
        "Going for Remote Compute to avoid dependency issues."
      ],
      "metadata": {}
    },
    {
      "cell_type": "code",
      "source": [
        "\n",
        "# TODO: Put your automl settings here\n",
        "automl_settings = automl_settings = {\n",
        "                                    \"n_cross_validations\": 5,\n",
        "                                    \"primary_metric\": 'accuracy',\n",
        "                                    \"enable_early_stopping\": True,\n",
        "                                    \"experiment_timeout_minutes\": 20\n",
        "                                     }\n",
        "\n",
        "# TODO: Put your automl config here\n",
        "automl_config = AutoMLConfig(\n",
        "   compute_target = 'cpucluster',  # Local compute accepts Data Frames but dependency issues\n",
        "    task='classification',\n",
        "    training_data=heart_ds,\n",
        "    label_column_name='DEATH_EVENT',\n",
        "    **automl_settings)"
      ],
      "outputs": [],
      "execution_count": 19,
      "metadata": {
        "gather": {
          "logged": 1627883201661
        },
        "jupyter": {
          "outputs_hidden": false,
          "source_hidden": false
        },
        "nteract": {
          "transient": {
            "deleting": false
          }
        }
      }
    },
    {
      "cell_type": "code",
      "source": [
        "# TODO: Submit your experiment\n",
        "automl_run = experiment.submit(automl_config,show_output = False)"
      ],
      "outputs": [
        {
          "output_type": "stream",
          "name": "stdout",
          "text": [
            "Submitting remote run.\n"
          ]
        },
        {
          "output_type": "display_data",
          "data": {
            "text/plain": "<IPython.core.display.HTML object>",
            "text/html": "<table style=\"width:100%\"><tr><th>Experiment</th><th>Id</th><th>Type</th><th>Status</th><th>Details Page</th><th>Docs Page</th></tr><tr><td>automl_capstone_exp</td><td>AutoML_94ff2bf8-d1ab-42ef-bdb5-d5219de4ff4e</td><td>automl</td><td>NotStarted</td><td><a href=\"https://ml.azure.com/runs/AutoML_94ff2bf8-d1ab-42ef-bdb5-d5219de4ff4e?wsid=/subscriptions/4aa2e7df-e0fb-4531-86c0-9fde89dcf4fa/resourcegroups/mlrg/workspaces/mltrial&amp;tid=42cd7fae-352f-4a09-a1b8-3cae854e5ad8\" target=\"_blank\" rel=\"noopener\">Link to Azure Machine Learning studio</a></td><td><a href=\"https://docs.microsoft.com/en-us/python/api/overview/azure/ml/intro?view=azure-ml-py\" target=\"_blank\" rel=\"noopener\">Link to Documentation</a></td></tr></table>"
          },
          "metadata": {}
        }
      ],
      "execution_count": 20,
      "metadata": {
        "gather": {
          "logged": 1627883210458
        },
        "jupyter": {
          "outputs_hidden": false,
          "source_hidden": false
        },
        "nteract": {
          "transient": {
            "deleting": false
          }
        }
      }
    },
    {
      "cell_type": "markdown",
      "source": [
        "## Run Details\r\n",
        "\r\n",
        "There are about 11 models which have run as a part of this experiment.\r\n",
        "\r\n",
        "Voting Ensemble is the top performing model w.r.t the Primary metric.\r\n",
        "\r\n",
        "The Ensemble models perform better as opposed to the individual models since they combine bagging,bosting and stacking to provide the results.\r\n",
        "They also combine the results and minimise the variance component of the error.\r\n",
        "\r\n",
        "We can explore the results of automatic training with a Jupyter widget. \r\n",
        "Additionally, we can filter on different accuracy metrics than the  primary metric - Accuracy  with the dropdown selector"
      ],
      "metadata": {
        "nteract": {
          "transient": {
            "deleting": false
          }
        }
      }
    },
    {
      "cell_type": "code",
      "source": [
        "\r\n",
        "RunDetails(automl_run).show()\r\n"
      ],
      "outputs": [
        {
          "output_type": "display_data",
          "data": {
            "text/plain": "_AutoMLWidget(widget_settings={'childWidgetDisplay': 'popup', 'send_telemetry': False, 'log_level': 'INFO', 's…",
            "application/vnd.jupyter.widget-view+json": {
              "version_major": 2,
              "version_minor": 0,
              "model_id": "44d8d1dd76d44fcb9a425a84dd0ab837"
            }
          },
          "metadata": {}
        },
        {
          "output_type": "display_data",
          "data": {
            "application/aml.mini.widget.v1": "{\"status\": \"Completed\", \"workbench_run_details_uri\": \"https://ml.azure.com/runs/AutoML_94ff2bf8-d1ab-42ef-bdb5-d5219de4ff4e?wsid=/subscriptions/4aa2e7df-e0fb-4531-86c0-9fde89dcf4fa/resourcegroups/mlrg/workspaces/mltrial&tid=42cd7fae-352f-4a09-a1b8-3cae854e5ad8\", \"run_id\": \"AutoML_94ff2bf8-d1ab-42ef-bdb5-d5219de4ff4e\", \"run_properties\": {\"run_id\": \"AutoML_94ff2bf8-d1ab-42ef-bdb5-d5219de4ff4e\", \"created_utc\": \"2021-08-02T05:47:03.583373Z\", \"properties\": {\"num_iterations\": \"1000\", \"training_type\": \"TrainFull\", \"acquisition_function\": \"EI\", \"primary_metric\": \"accuracy\", \"train_split\": \"0\", \"acquisition_parameter\": \"0\", \"num_cross_validation\": \"5\", \"target\": \"cpucluster\", \"AMLSettingsJsonString\": \"{\\\"path\\\":null,\\\"name\\\":\\\"automl_capstone_exp\\\",\\\"subscription_id\\\":\\\"4aa2e7df-e0fb-4531-86c0-9fde89dcf4fa\\\",\\\"resource_group\\\":\\\"mlrg\\\",\\\"workspace_name\\\":\\\"mltrial\\\",\\\"region\\\":\\\"eastus\\\",\\\"compute_target\\\":\\\"cpucluster\\\",\\\"spark_service\\\":null,\\\"azure_service\\\":\\\"remote\\\",\\\"many_models\\\":false,\\\"pipeline_fetch_max_batch_size\\\":1,\\\"enable_batch_run\\\":false,\\\"enable_run_restructure\\\":false,\\\"start_auxiliary_runs_before_parent_complete\\\":false,\\\"enable_code_generation\\\":false,\\\"iterations\\\":1000,\\\"primary_metric\\\":\\\"accuracy\\\",\\\"task_type\\\":\\\"classification\\\",\\\"data_script\\\":null,\\\"test_size\\\":0.0,\\\"validation_size\\\":0.0,\\\"n_cross_validations\\\":5,\\\"y_min\\\":null,\\\"y_max\\\":null,\\\"num_classes\\\":null,\\\"featurization\\\":\\\"auto\\\",\\\"_ignore_package_version_incompatibilities\\\":false,\\\"is_timeseries\\\":false,\\\"max_cores_per_iteration\\\":1,\\\"max_concurrent_iterations\\\":1,\\\"iteration_timeout_minutes\\\":null,\\\"mem_in_mb\\\":null,\\\"enforce_time_on_windows\\\":false,\\\"experiment_timeout_minutes\\\":20,\\\"experiment_exit_score\\\":null,\\\"whitelist_models\\\":null,\\\"blacklist_algos\\\":[\\\"TensorFlowLinearClassifier\\\",\\\"TensorFlowDNN\\\"],\\\"supported_models\\\":[\\\"LogisticRegression\\\",\\\"BernoulliNaiveBayes\\\",\\\"SVM\\\",\\\"GradientBoosting\\\",\\\"KNN\\\",\\\"AveragedPerceptronClassifier\\\",\\\"TensorFlowLinearClassifier\\\",\\\"TensorFlowDNN\\\",\\\"ExtremeRandomTrees\\\",\\\"XGBoostClassifier\\\",\\\"LinearSVM\\\",\\\"RandomForest\\\",\\\"SGD\\\",\\\"LightGBM\\\",\\\"MultinomialNaiveBayes\\\",\\\"DecisionTree\\\"],\\\"private_models\\\":[],\\\"auto_blacklist\\\":true,\\\"blacklist_samples_reached\\\":false,\\\"exclude_nan_labels\\\":true,\\\"verbosity\\\":20,\\\"_debug_log\\\":\\\"azureml_automl.log\\\",\\\"show_warnings\\\":false,\\\"model_explainability\\\":true,\\\"service_url\\\":null,\\\"sdk_url\\\":null,\\\"sdk_packages\\\":null,\\\"enable_onnx_compatible_models\\\":false,\\\"enable_split_onnx_featurizer_estimator_models\\\":false,\\\"vm_type\\\":\\\"STANDARD_DS12_V2\\\",\\\"telemetry_verbosity\\\":20,\\\"send_telemetry\\\":true,\\\"enable_dnn\\\":false,\\\"scenario\\\":\\\"SDK-1.13.0\\\",\\\"environment_label\\\":null,\\\"save_mlflow\\\":false,\\\"force_text_dnn\\\":false,\\\"enable_feature_sweeping\\\":true,\\\"enable_early_stopping\\\":true,\\\"early_stopping_n_iters\\\":10,\\\"metrics\\\":null,\\\"enable_metric_confidence\\\":false,\\\"enable_ensembling\\\":true,\\\"enable_stack_ensembling\\\":true,\\\"ensemble_iterations\\\":15,\\\"enable_tf\\\":false,\\\"enable_subsampling\\\":null,\\\"subsample_seed\\\":null,\\\"enable_nimbusml\\\":false,\\\"enable_streaming\\\":false,\\\"force_streaming\\\":false,\\\"track_child_runs\\\":true,\\\"allowed_private_models\\\":[],\\\"label_column_name\\\":\\\"DEATH_EVENT\\\",\\\"weight_column_name\\\":null,\\\"cv_split_column_names\\\":null,\\\"enable_local_managed\\\":false,\\\"_local_managed_run_id\\\":null,\\\"cost_mode\\\":1,\\\"lag_length\\\":0,\\\"metric_operation\\\":\\\"maximize\\\",\\\"preprocess\\\":true}\", \"DataPrepJsonString\": \"{\\\\\\\"training_data\\\\\\\": {\\\\\\\"datasetId\\\\\\\": \\\\\\\"9d6a1df3-b413-4338-8f7e-315492df17ef\\\\\\\"}, \\\\\\\"datasets\\\\\\\": 0}\", \"EnableSubsampling\": null, \"runTemplate\": \"AutoML\", \"azureml.runsource\": \"automl\", \"display_task_type\": \"classification\", \"dependencies_versions\": \"{\\\"azureml-widgets\\\": \\\"1.32.0\\\", \\\"azureml-train\\\": \\\"1.32.0\\\", \\\"azureml-train-restclients-hyperdrive\\\": \\\"1.32.0\\\", \\\"azureml-train-core\\\": \\\"1.32.0\\\", \\\"azureml-train-automl\\\": \\\"1.32.0\\\", \\\"azureml-train-automl-runtime\\\": \\\"1.32.0\\\", \\\"azureml-train-automl-client\\\": \\\"1.32.0\\\", \\\"azureml-tensorboard\\\": \\\"1.32.0\\\", \\\"azureml-telemetry\\\": \\\"1.32.0\\\", \\\"azureml-sdk\\\": \\\"1.32.0\\\", \\\"azureml-samples\\\": \\\"0+unknown\\\", \\\"azureml-responsibleai\\\": \\\"1.32.0\\\", \\\"azureml-pipeline\\\": \\\"1.32.0\\\", \\\"azureml-pipeline-steps\\\": \\\"1.32.0\\\", \\\"azureml-pipeline-core\\\": \\\"1.32.0\\\", \\\"azureml-opendatasets\\\": \\\"1.32.0\\\", \\\"azureml-model-management-sdk\\\": \\\"1.0.1b6.post1\\\", \\\"azureml-mlflow\\\": \\\"1.32.0\\\", \\\"azureml-interpret\\\": \\\"1.32.0\\\", \\\"azureml-explain-model\\\": \\\"1.32.0\\\", \\\"azureml-defaults\\\": \\\"1.32.0\\\", \\\"azureml-dataset-runtime\\\": \\\"1.32.0\\\", \\\"azureml-dataprep\\\": \\\"2.18.0\\\", \\\"azureml-dataprep-rslex\\\": \\\"1.16.1\\\", \\\"azureml-dataprep-native\\\": \\\"36.0.0\\\", \\\"azureml-datadrift\\\": \\\"1.32.0\\\", \\\"azureml-core\\\": \\\"1.32.0\\\", \\\"azureml-contrib-services\\\": \\\"1.32.0\\\", \\\"azureml-contrib-server\\\": \\\"1.32.0\\\", \\\"azureml-contrib-reinforcementlearning\\\": \\\"1.32.0\\\", \\\"azureml-contrib-pipeline-steps\\\": \\\"1.32.0\\\", \\\"azureml-contrib-notebook\\\": \\\"1.32.0\\\", \\\"azureml-contrib-fairness\\\": \\\"1.32.0\\\", \\\"azureml-contrib-dataset\\\": \\\"1.32.0\\\", \\\"azureml-cli-common\\\": \\\"1.32.0\\\", \\\"azureml-automl-runtime\\\": \\\"1.32.0\\\", \\\"azureml-automl-dnn-nlp\\\": \\\"1.32.0\\\", \\\"azureml-automl-core\\\": \\\"1.32.0\\\", \\\"azureml-accel-models\\\": \\\"1.32.0\\\"}\", \"_aml_system_scenario_identification\": \"Remote.Parent\", \"ClientType\": \"SDK\", \"environment_cpu_name\": \"AzureML-AutoML\", \"environment_cpu_label\": \"prod\", \"environment_gpu_name\": \"AzureML-AutoML-GPU\", \"environment_gpu_label\": \"prod\", \"root_attribution\": \"automl\", \"attribution\": \"AutoML\", \"Orchestrator\": \"AutoML\", \"CancelUri\": \"https://eastus.api.azureml.ms/jasmine/v1.0/subscriptions/4aa2e7df-e0fb-4531-86c0-9fde89dcf4fa/resourceGroups/mlrg/providers/Microsoft.MachineLearningServices/workspaces/mltrial/experimentids/d60e2097-5a33-414f-a3d5-62b4293446b7/cancel/AutoML_94ff2bf8-d1ab-42ef-bdb5-d5219de4ff4e\", \"ClientSdkVersion\": \"1.32.0\", \"snapshotId\": \"00000000-0000-0000-0000-000000000000\", \"SetupRunId\": \"AutoML_94ff2bf8-d1ab-42ef-bdb5-d5219de4ff4e_setup\", \"SetupRunContainerId\": \"dcid.AutoML_94ff2bf8-d1ab-42ef-bdb5-d5219de4ff4e_setup\", \"FeaturizationRunJsonPath\": \"featurizer_container.json\", \"FeaturizationRunId\": \"AutoML_94ff2bf8-d1ab-42ef-bdb5-d5219de4ff4e_featurize\", \"ProblemInfoJsonString\": \"{\\\"dataset_num_categorical\\\": 0, \\\"is_sparse\\\": false, \\\"subsampling\\\": false, \\\"has_extra_col\\\": true, \\\"dataset_classes\\\": 2, \\\"dataset_features\\\": 12, \\\"dataset_samples\\\": 299, \\\"single_frequency_class_detected\\\": false}\", \"ModelExplainRunId\": \"AutoML_94ff2bf8-d1ab-42ef-bdb5-d5219de4ff4e_ModelExplain\"}, \"tags\": {\"model_explain_run\": \"best_run\", \"_aml_system_azureml.automlComponent\": \"AutoML\", \"pipeline_id\": \"\", \"score\": \"\", \"predicted_cost\": \"\", \"fit_time\": \"\", \"training_percent\": \"\", \"iteration\": \"\", \"run_preprocessor\": \"\", \"run_algorithm\": \"\", \"automl_best_child_run_id\": \"AutoML_94ff2bf8-d1ab-42ef-bdb5-d5219de4ff4e_9\", \"model_explain_best_run_child_id\": \"AutoML_94ff2bf8-d1ab-42ef-bdb5-d5219de4ff4e_9\"}, \"end_time_utc\": \"2021-08-02T06:14:59.313177Z\", \"status\": \"Completed\", \"log_files\": {}, \"log_groups\": [], \"run_duration\": \"0:27:55\", \"run_number\": \"11\", \"run_queued_details\": {\"status\": \"Completed\", \"details\": null}}, \"child_runs\": [{\"run_id\": \"AutoML_94ff2bf8-d1ab-42ef-bdb5-d5219de4ff4e_0\", \"run_number\": 27, \"metric\": null, \"status\": \"Completed\", \"run_type\": \"azureml.scriptrun\", \"training_percent\": \"100\", \"start_time\": \"2021-08-02T05:55:56.170374Z\", \"end_time\": \"2021-08-02T05:56:37.809257Z\", \"created_time\": \"2021-08-02T05:52:45.944129Z\", \"created_time_dt\": \"2021-08-02T05:52:45.944129Z\", \"duration\": \"0:03:51\", \"iteration\": \"0\", \"goal\": \"accuracy_max\", \"run_name\": \"MaxAbsScaler, LightGBM\", \"run_properties\": \"copy=True\", \"primary_metric\": 0.8059887, \"best_metric\": 0.8059887}, {\"run_id\": \"AutoML_94ff2bf8-d1ab-42ef-bdb5-d5219de4ff4e_1\", \"run_number\": 29, \"metric\": null, \"status\": \"Completed\", \"run_type\": \"azureml.scriptrun\", \"training_percent\": \"100\", \"start_time\": \"2021-08-02T05:57:42.492487Z\", \"end_time\": \"2021-08-02T05:58:17.421361Z\", \"created_time\": \"2021-08-02T05:56:39.012566Z\", \"created_time_dt\": \"2021-08-02T05:56:39.012566Z\", \"duration\": \"0:01:38\", \"iteration\": \"1\", \"goal\": \"accuracy_max\", \"run_name\": \"MaxAbsScaler, XGBoostClassifier\", \"run_properties\": \"copy=True\", \"primary_metric\": 0.8259322, \"best_metric\": 0.8259322}, {\"run_id\": \"AutoML_94ff2bf8-d1ab-42ef-bdb5-d5219de4ff4e_2\", \"run_number\": 31, \"metric\": null, \"status\": \"Completed\", \"run_type\": \"azureml.scriptrun\", \"training_percent\": \"100\", \"start_time\": \"2021-08-02T05:59:21.345622Z\", \"end_time\": \"2021-08-02T05:59:53.166935Z\", \"created_time\": \"2021-08-02T05:58:18.385026Z\", \"created_time_dt\": \"2021-08-02T05:58:18.385026Z\", \"duration\": \"0:01:34\", \"iteration\": \"2\", \"goal\": \"accuracy_max\", \"run_name\": \"MinMaxScaler, RandomForest\", \"run_properties\": \"copy=True, feature_range=(0, 1\", \"primary_metric\": 0.84937853, \"best_metric\": 0.84937853}, {\"run_id\": \"AutoML_94ff2bf8-d1ab-42ef-bdb5-d5219de4ff4e_3\", \"run_number\": 33, \"metric\": null, \"status\": \"Completed\", \"run_type\": \"azureml.scriptrun\", \"training_percent\": \"100\", \"start_time\": \"2021-08-02T06:01:00.976467Z\", \"end_time\": \"2021-08-02T06:01:36.800799Z\", \"created_time\": \"2021-08-02T05:59:55.24541Z\", \"created_time_dt\": \"2021-08-02T05:59:55.24541Z\", \"duration\": \"0:01:41\", \"iteration\": \"3\", \"goal\": \"accuracy_max\", \"run_name\": \"MinMaxScaler, RandomForest\", \"run_properties\": \"copy=True, feature_range=(0, 1\", \"primary_metric\": 0.8259322, \"best_metric\": 0.84937853}, {\"run_id\": \"AutoML_94ff2bf8-d1ab-42ef-bdb5-d5219de4ff4e_4\", \"run_number\": 35, \"metric\": null, \"status\": \"Completed\", \"run_type\": \"azureml.scriptrun\", \"training_percent\": \"100\", \"start_time\": \"2021-08-02T06:05:10.331752Z\", \"end_time\": \"2021-08-02T06:05:49.0901Z\", \"created_time\": \"2021-08-02T06:01:38.924101Z\", \"created_time_dt\": \"2021-08-02T06:01:38.924101Z\", \"duration\": \"0:04:10\", \"iteration\": \"4\", \"goal\": \"accuracy_max\", \"run_name\": \"MinMaxScaler, RandomForest\", \"run_properties\": \"copy=True, feature_range=(0, 1\", \"primary_metric\": 0.81926554, \"best_metric\": 0.84937853}, {\"run_id\": \"AutoML_94ff2bf8-d1ab-42ef-bdb5-d5219de4ff4e_5\", \"run_number\": 37, \"metric\": null, \"status\": \"Completed\", \"run_type\": \"azureml.scriptrun\", \"training_percent\": \"100\", \"start_time\": \"2021-08-02T06:07:00.448153Z\", \"end_time\": \"2021-08-02T06:07:36.81014Z\", \"created_time\": \"2021-08-02T06:05:50.766465Z\", \"created_time_dt\": \"2021-08-02T06:05:50.766465Z\", \"duration\": \"0:01:46\", \"iteration\": \"5\", \"goal\": \"accuracy_max\", \"run_name\": \"MinMaxScaler, SVM\", \"run_properties\": \"copy=True, feature_range=(0, 1\", \"primary_metric\": 0.71576271, \"best_metric\": 0.84937853}, {\"run_id\": \"AutoML_94ff2bf8-d1ab-42ef-bdb5-d5219de4ff4e_6\", \"run_number\": 39, \"metric\": null, \"status\": \"Completed\", \"run_type\": \"azureml.scriptrun\", \"training_percent\": \"100\", \"start_time\": \"2021-08-02T06:08:54.274376Z\", \"end_time\": \"2021-08-02T06:09:28.065041Z\", \"created_time\": \"2021-08-02T06:07:38.266556Z\", \"created_time_dt\": \"2021-08-02T06:07:38.266556Z\", \"duration\": \"0:01:49\", \"iteration\": \"6\", \"goal\": \"accuracy_max\", \"run_name\": \"MaxAbsScaler, GradientBoosting\", \"run_properties\": \"copy=True\", \"primary_metric\": 0.83271186, \"best_metric\": 0.84937853}, {\"run_id\": \"AutoML_94ff2bf8-d1ab-42ef-bdb5-d5219de4ff4e_7\", \"run_number\": 41, \"metric\": null, \"status\": \"Completed\", \"run_type\": \"azureml.scriptrun\", \"training_percent\": \"100\", \"start_time\": \"2021-08-02T06:11:29.824903Z\", \"end_time\": \"2021-08-02T06:12:10.607444Z\", \"created_time\": \"2021-08-02T06:09:29.538643Z\", \"created_time_dt\": \"2021-08-02T06:09:29.538643Z\", \"duration\": \"0:02:41\", \"iteration\": \"7\", \"goal\": \"accuracy_max\", \"run_name\": \"StandardScalerWrapper, RandomForest\", \"run_properties\": \"\\n    copy=True,\\n    with_mean=False,\\n    with_std=True\\n\", \"primary_metric\": 0.83627119, \"best_metric\": 0.84937853}, {\"run_id\": \"AutoML_94ff2bf8-d1ab-42ef-bdb5-d5219de4ff4e_8\", \"run_number\": 42, \"metric\": null, \"status\": \"Completed\", \"run_type\": \"azureml.scriptrun\", \"training_percent\": \"100\", \"start_time\": \"2021-08-02T06:12:26.973564Z\", \"end_time\": \"2021-08-02T06:13:03.672485Z\", \"created_time\": \"2021-08-02T06:12:12.50756Z\", \"created_time_dt\": \"2021-08-02T06:12:12.50756Z\", \"duration\": \"0:00:51\", \"iteration\": \"8\", \"goal\": \"accuracy_max\", \"run_name\": \"SparseNormalizer, XGBoostClassifier\", \"run_properties\": \"copy=True, norm='max'\", \"primary_metric\": 0.84960452, \"best_metric\": 0.84960452}, {\"run_id\": \"AutoML_94ff2bf8-d1ab-42ef-bdb5-d5219de4ff4e_9\", \"run_number\": 43, \"metric\": null, \"status\": \"Completed\", \"run_type\": \"azureml.scriptrun\", \"training_percent\": \"100\", \"start_time\": \"2021-08-02T06:13:19.946531Z\", \"end_time\": \"2021-08-02T06:13:59.786354Z\", \"created_time\": \"2021-08-02T06:13:04.455445Z\", \"created_time_dt\": \"2021-08-02T06:13:04.455445Z\", \"duration\": \"0:00:55\", \"iteration\": \"9\", \"goal\": \"accuracy_max\", \"run_name\": \"VotingEnsemble\", \"run_properties\": \"\\n    estimators=[('8', Pipeline(memory=None,\\n             steps=[('sparsenormalizer', Normalizer(copy=True, norm='max'\", \"primary_metric\": 0.87632768, \"best_metric\": 0.87632768}, {\"run_id\": \"AutoML_94ff2bf8-d1ab-42ef-bdb5-d5219de4ff4e_10\", \"run_number\": 44, \"metric\": null, \"status\": \"Completed\", \"run_type\": \"azureml.scriptrun\", \"training_percent\": \"100\", \"start_time\": \"2021-08-02T06:14:13.607772Z\", \"end_time\": \"2021-08-02T06:14:57.748094Z\", \"created_time\": \"2021-08-02T06:14:00.649743Z\", \"created_time_dt\": \"2021-08-02T06:14:00.649743Z\", \"duration\": \"0:00:57\", \"iteration\": \"10\", \"goal\": \"accuracy_max\", \"run_name\": \"StackEnsemble\", \"run_properties\": \"\\n    base_learners=[('8', Pipeline(memory=None,\\n             steps=[('sparsenormalizer', Normalizer(copy=True, norm='max'\", \"primary_metric\": 0.83937853, \"best_metric\": 0.87632768}], \"children_metrics\": {\"categories\": [0], \"series\": {\"AUC_micro\": [{\"categories\": [\"0\", \"1\", \"2\", \"3\", \"4\", \"5\", \"6\", \"7\", \"8\", \"9\", \"10\"], \"mode\": \"markers\", \"name\": \"AUC_micro\", \"stepped\": false, \"type\": \"scatter\", \"data\": [0.8880105014523284, 0.8999905678444892, 0.9154782150722973, 0.8982013948737592, 0.9154843914583932, 0.7843937406237032, 0.9132042356921701, 0.9104924510836604, 0.9057792460659453, 0.9144829550895336, 0.9155745954227712]}, {\"categories\": [\"0\", \"1\", \"2\", \"3\", \"4\", \"5\", \"6\", \"7\", \"8\", \"9\", \"10\"], \"mode\": \"lines\", \"name\": \"AUC_micro_max\", \"stepped\": true, \"type\": \"scatter\", \"data\": [0.8880105014523284, 0.8999905678444892, 0.9154782150722973, 0.9154782150722973, 0.9154843914583932, 0.9154843914583932, 0.9154843914583932, 0.9154843914583932, 0.9154843914583932, 0.9154843914583932, 0.9155745954227712]}], \"recall_score_macro\": [{\"categories\": [\"0\", \"1\", \"2\", \"3\", \"4\", \"5\", \"6\", \"7\", \"8\", \"9\", \"10\"], \"mode\": \"markers\", \"name\": \"recall_score_macro\", \"stepped\": false, \"type\": \"scatter\", \"data\": [0.7760209025470652, 0.8060125968992248, 0.8164119601328903, 0.7819774363233666, 0.8039887873754152, 0.6293327796234773, 0.8019179125138427, 0.8021130952380953, 0.8112458471760797, 0.8445833333333332, 0.8152470930232558]}, {\"categories\": [\"0\", \"1\", \"2\", \"3\", \"4\", \"5\", \"6\", \"7\", \"8\", \"9\", \"10\"], \"mode\": \"lines\", \"name\": \"recall_score_macro_max\", \"stepped\": true, \"type\": \"scatter\", \"data\": [0.7760209025470652, 0.8060125968992248, 0.8164119601328903, 0.8164119601328903, 0.8164119601328903, 0.8164119601328903, 0.8164119601328903, 0.8164119601328903, 0.8164119601328903, 0.8445833333333332, 0.8445833333333332]}], \"norm_macro_recall\": [{\"categories\": [\"0\", \"1\", \"2\", \"3\", \"4\", \"5\", \"6\", \"7\", \"8\", \"9\", \"10\"], \"mode\": \"markers\", \"name\": \"norm_macro_recall\", \"stepped\": false, \"type\": \"scatter\", \"data\": [0.5520418050941306, 0.6120251937984496, 0.6328239202657807, 0.563954872646733, 0.6079775747508307, 0.25866555924695456, 0.6038358250276855, 0.6042261904761904, 0.6224916943521595, 0.6891666666666667, 0.6304941860465118]}, {\"categories\": [\"0\", \"1\", \"2\", \"3\", \"4\", \"5\", \"6\", \"7\", \"8\", \"9\", \"10\"], \"mode\": \"lines\", \"name\": \"norm_macro_recall_max\", \"stepped\": true, \"type\": \"scatter\", \"data\": [0.5520418050941306, 0.6120251937984496, 0.6328239202657807, 0.6328239202657807, 0.6328239202657807, 0.6328239202657807, 0.6328239202657807, 0.6328239202657807, 0.6328239202657807, 0.6891666666666667, 0.6891666666666667]}], \"precision_score_weighted\": [{\"categories\": [\"0\", \"1\", \"2\", \"3\", \"4\", \"5\", \"6\", \"7\", \"8\", \"9\", \"10\"], \"mode\": \"markers\", \"name\": \"precision_score_weighted\", \"stepped\": false, \"type\": \"scatter\", \"data\": [0.8237683758533973, 0.8403871377947292, 0.8542891007697178, 0.8335984822463528, 0.8372915673837589, 0.7240563425028896, 0.8458049259009153, 0.8523253215710843, 0.8634172995690739, 0.894403880597974, 0.851907172335982]}, {\"categories\": [\"0\", \"1\", \"2\", \"3\", \"4\", \"5\", \"6\", \"7\", \"8\", \"9\", \"10\"], \"mode\": \"lines\", \"name\": \"precision_score_weighted_max\", \"stepped\": true, \"type\": \"scatter\", \"data\": [0.8237683758533973, 0.8403871377947292, 0.8542891007697178, 0.8542891007697178, 0.8542891007697178, 0.8542891007697178, 0.8542891007697178, 0.8542891007697178, 0.8634172995690739, 0.894403880597974, 0.894403880597974]}], \"weighted_accuracy\": [{\"categories\": [\"0\", \"1\", \"2\", \"3\", \"4\", \"5\", \"6\", \"7\", \"8\", \"9\", \"10\"], \"mode\": \"markers\", \"name\": \"weighted_accuracy\", \"stepped\": false, \"type\": \"scatter\", \"data\": [0.8252063202764133, 0.8406325321291572, 0.8722191257769794, 0.8556219176885225, 0.8301605557279771, 0.7746216361810105, 0.8523891760979927, 0.8599847326482356, 0.876880803619453, 0.8977905378029968, 0.8559015927225155]}, {\"categories\": [\"0\", \"1\", \"2\", \"3\", \"4\", \"5\", \"6\", \"7\", \"8\", \"9\", \"10\"], \"mode\": \"lines\", \"name\": \"weighted_accuracy_max\", \"stepped\": true, \"type\": \"scatter\", \"data\": [0.8252063202764133, 0.8406325321291572, 0.8722191257769794, 0.8722191257769794, 0.8722191257769794, 0.8722191257769794, 0.8722191257769794, 0.8722191257769794, 0.876880803619453, 0.8977905378029968, 0.8977905378029968]}], \"accuracy\": [{\"categories\": [\"0\", \"1\", \"2\", \"3\", \"4\", \"5\", \"6\", \"7\", \"8\", \"9\", \"10\"], \"mode\": \"markers\", \"name\": \"accuracy\", \"stepped\": false, \"type\": \"scatter\", \"data\": [0.8059887005649717, 0.8259322033898304, 0.8493785310734463, 0.8259322033898305, 0.8192655367231637, 0.7157627118644067, 0.8327118644067797, 0.836271186440678, 0.8496045197740113, 0.8763276836158193, 0.8393785310734463]}, {\"categories\": [\"0\", \"1\", \"2\", \"3\", \"4\", \"5\", \"6\", \"7\", \"8\", \"9\", \"10\"], \"mode\": \"lines\", \"name\": \"accuracy_max\", \"stepped\": true, \"type\": \"scatter\", \"data\": [0.8059887005649717, 0.8259322033898304, 0.8493785310734463, 0.8493785310734463, 0.8493785310734463, 0.8493785310734463, 0.8493785310734463, 0.8493785310734463, 0.8496045197740113, 0.8763276836158193, 0.8763276836158193]}], \"matthews_correlation\": [{\"categories\": [\"0\", \"1\", \"2\", \"3\", \"4\", \"5\", \"6\", \"7\", \"8\", \"9\", \"10\"], \"mode\": \"markers\", \"name\": \"matthews_correlation\", \"stepped\": false, \"type\": \"scatter\", \"data\": [0.5628617041183437, 0.6132552509330647, 0.6458544541704889, 0.5852374992234759, 0.5954468951121357, 0.3019082180342871, 0.6160151327762956, 0.6312417245777093, 0.6568903004948619, 0.7265774471999167, 0.6355958336207279]}, {\"categories\": [\"0\", \"1\", \"2\", \"3\", \"4\", \"5\", \"6\", \"7\", \"8\", \"9\", \"10\"], \"mode\": \"lines\", \"name\": \"matthews_correlation_max\", \"stepped\": true, \"type\": \"scatter\", \"data\": [0.5628617041183437, 0.6132552509330647, 0.6458544541704889, 0.6458544541704889, 0.6458544541704889, 0.6458544541704889, 0.6458544541704889, 0.6458544541704889, 0.6568903004948619, 0.7265774471999167, 0.7265774471999167]}], \"AUC_macro\": [{\"categories\": [\"0\", \"1\", \"2\", \"3\", \"4\", \"5\", \"6\", \"7\", \"8\", \"9\", \"10\"], \"mode\": \"markers\", \"name\": \"AUC_macro\", \"stepped\": false, \"type\": \"scatter\", \"data\": [0.8811331210778885, 0.8929591177556295, 0.9036864848652639, 0.893217792543374, 0.9186033822443707, 0.7394446982281285, 0.9072221991509781, 0.9029705380214101, 0.8940481035437431, 0.9123256506090808, 0.9183210825027686]}, {\"categories\": [\"0\", \"1\", \"2\", \"3\", \"4\", \"5\", \"6\", \"7\", \"8\", \"9\", \"10\"], \"mode\": \"lines\", \"name\": \"AUC_macro_max\", \"stepped\": true, \"type\": \"scatter\", \"data\": [0.8811331210778885, 0.8929591177556295, 0.9036864848652639, 0.9036864848652639, 0.9186033822443707, 0.9186033822443707, 0.9186033822443707, 0.9186033822443707, 0.9186033822443707, 0.9186033822443707, 0.9186033822443707]}], \"log_loss\": [{\"categories\": [\"0\", \"1\", \"2\", \"3\", \"4\", \"5\", \"6\", \"7\", \"8\", \"9\", \"10\"], \"mode\": \"markers\", \"name\": \"log_loss\", \"stepped\": false, \"type\": \"scatter\", \"data\": [0.5282491261622873, 0.43217688170419066, 0.3807876823650016, 0.4078307499641358, 0.38268462174755385, 0.5885975681197493, 0.37334398188524764, 0.39990315622168865, 0.38995629857272407, 0.3849086300466243, 0.38309434071767595]}, {\"categories\": [\"0\", \"1\", \"2\", \"3\", \"4\", \"5\", \"6\", \"7\", \"8\", \"9\", \"10\"], \"mode\": \"lines\", \"name\": \"log_loss_min\", \"stepped\": true, \"type\": \"scatter\", \"data\": [0.5282491261622873, 0.43217688170419066, 0.3807876823650016, 0.3807876823650016, 0.3807876823650016, 0.3807876823650016, 0.37334398188524764, 0.37334398188524764, 0.37334398188524764, 0.37334398188524764, 0.37334398188524764]}], \"AUC_weighted\": [{\"categories\": [\"0\", \"1\", \"2\", \"3\", \"4\", \"5\", \"6\", \"7\", \"8\", \"9\", \"10\"], \"mode\": \"markers\", \"name\": \"AUC_weighted\", \"stepped\": false, \"type\": \"scatter\", \"data\": [0.8811331210778885, 0.8929591177556293, 0.9036864848652642, 0.8932177925433737, 0.9186033822443707, 0.7394446982281285, 0.9072221991509781, 0.9029705380214101, 0.8940481035437431, 0.9123256506090808, 0.9183210825027686]}, {\"categories\": [\"0\", \"1\", \"2\", \"3\", \"4\", \"5\", \"6\", \"7\", \"8\", \"9\", \"10\"], \"mode\": \"lines\", \"name\": \"AUC_weighted_max\", \"stepped\": true, \"type\": \"scatter\", \"data\": [0.8811331210778885, 0.8929591177556293, 0.9036864848652642, 0.9036864848652642, 0.9186033822443707, 0.9186033822443707, 0.9186033822443707, 0.9186033822443707, 0.9186033822443707, 0.9186033822443707, 0.9186033822443707]}], \"average_precision_score_micro\": [{\"categories\": [\"0\", \"1\", \"2\", \"3\", \"4\", \"5\", \"6\", \"7\", \"8\", \"9\", \"10\"], \"mode\": \"markers\", \"name\": \"average_precision_score_micro\", \"stepped\": false, \"type\": \"scatter\", \"data\": [0.887958292631032, 0.9018582931163117, 0.9148380342331596, 0.8992044855714146, 0.9183353600768177, 0.7626490120461287, 0.9136407221360621, 0.9121451969561377, 0.9026020432426062, 0.914001363343919, 0.9186123735200276]}, {\"categories\": [\"0\", \"1\", \"2\", \"3\", \"4\", \"5\", \"6\", \"7\", \"8\", \"9\", \"10\"], \"mode\": \"lines\", \"name\": \"average_precision_score_micro_max\", \"stepped\": true, \"type\": \"scatter\", \"data\": [0.887958292631032, 0.9018582931163117, 0.9148380342331596, 0.9148380342331596, 0.9183353600768177, 0.9183353600768177, 0.9183353600768177, 0.9183353600768177, 0.9183353600768177, 0.9183353600768177, 0.9186123735200276]}], \"average_precision_score_macro\": [{\"categories\": [\"0\", \"1\", \"2\", \"3\", \"4\", \"5\", \"6\", \"7\", \"8\", \"9\", \"10\"], \"mode\": \"markers\", \"name\": \"average_precision_score_macro\", \"stepped\": false, \"type\": \"scatter\", \"data\": [0.8655792376041671, 0.8826936933050062, 0.8873089390336821, 0.8862546729107276, 0.9014065751829425, 0.7189893586676069, 0.8967077031962741, 0.8914666154376485, 0.8802531433544377, 0.8998958306439382, 0.9021101072614662]}, {\"categories\": [\"0\", \"1\", \"2\", \"3\", \"4\", \"5\", \"6\", \"7\", \"8\", \"9\", \"10\"], \"mode\": \"lines\", \"name\": \"average_precision_score_macro_max\", \"stepped\": true, \"type\": \"scatter\", \"data\": [0.8655792376041671, 0.8826936933050062, 0.8873089390336821, 0.8873089390336821, 0.9014065751829425, 0.9014065751829425, 0.9014065751829425, 0.9014065751829425, 0.9014065751829425, 0.9014065751829425, 0.9021101072614662]}], \"precision_score_micro\": [{\"categories\": [\"0\", \"1\", \"2\", \"3\", \"4\", \"5\", \"6\", \"7\", \"8\", \"9\", \"10\"], \"mode\": \"markers\", \"name\": \"precision_score_micro\", \"stepped\": false, \"type\": \"scatter\", \"data\": [0.8059887005649717, 0.8259322033898304, 0.8493785310734463, 0.8259322033898305, 0.8192655367231637, 0.7157627118644067, 0.8327118644067797, 0.836271186440678, 0.8496045197740113, 0.8763276836158193, 0.8393785310734463]}, {\"categories\": [\"0\", \"1\", \"2\", \"3\", \"4\", \"5\", \"6\", \"7\", \"8\", \"9\", \"10\"], \"mode\": \"lines\", \"name\": \"precision_score_micro_max\", \"stepped\": true, \"type\": \"scatter\", \"data\": [0.8059887005649717, 0.8259322033898304, 0.8493785310734463, 0.8493785310734463, 0.8493785310734463, 0.8493785310734463, 0.8493785310734463, 0.8493785310734463, 0.8496045197740113, 0.8763276836158193, 0.8763276836158193]}], \"recall_score_micro\": [{\"categories\": [\"0\", \"1\", \"2\", \"3\", \"4\", \"5\", \"6\", \"7\", \"8\", \"9\", \"10\"], \"mode\": \"markers\", \"name\": \"recall_score_micro\", \"stepped\": false, \"type\": \"scatter\", \"data\": [0.8059887005649717, 0.8259322033898304, 0.8493785310734463, 0.8259322033898305, 0.8192655367231637, 0.7157627118644067, 0.8327118644067797, 0.836271186440678, 0.8496045197740113, 0.8763276836158193, 0.8393785310734463]}, {\"categories\": [\"0\", \"1\", \"2\", \"3\", \"4\", \"5\", \"6\", \"7\", \"8\", \"9\", \"10\"], \"mode\": \"lines\", \"name\": \"recall_score_micro_max\", \"stepped\": true, \"type\": \"scatter\", \"data\": [0.8059887005649717, 0.8259322033898304, 0.8493785310734463, 0.8493785310734463, 0.8493785310734463, 0.8493785310734463, 0.8493785310734463, 0.8493785310734463, 0.8496045197740113, 0.8763276836158193, 0.8763276836158193]}], \"f1_score_weighted\": [{\"categories\": [\"0\", \"1\", \"2\", \"3\", \"4\", \"5\", \"6\", \"7\", \"8\", \"9\", \"10\"], \"mode\": \"markers\", \"name\": \"f1_score_weighted\", \"stepped\": false, \"type\": \"scatter\", \"data\": [0.8014398448329555, 0.8237396450256732, 0.8466327884476381, 0.8205490515165741, 0.8201753451782496, 0.689841241542283, 0.8282389955942854, 0.8322977857414591, 0.8445786473037667, 0.8712373429020379, 0.8365035539521861]}, {\"categories\": [\"0\", \"1\", \"2\", \"3\", \"4\", \"5\", \"6\", \"7\", \"8\", \"9\", \"10\"], \"mode\": \"lines\", \"name\": \"f1_score_weighted_max\", \"stepped\": true, \"type\": \"scatter\", \"data\": [0.8014398448329555, 0.8237396450256732, 0.8466327884476381, 0.8466327884476381, 0.8466327884476381, 0.8466327884476381, 0.8466327884476381, 0.8466327884476381, 0.8466327884476381, 0.8712373429020379, 0.8712373429020379]}], \"precision_score_macro\": [{\"categories\": [\"0\", \"1\", \"2\", \"3\", \"4\", \"5\", \"6\", \"7\", \"8\", \"9\", \"10\"], \"mode\": \"markers\", \"name\": \"precision_score_macro\", \"stepped\": false, \"type\": \"scatter\", \"data\": [0.7889041743265773, 0.8086642059265495, 0.8303459263267825, 0.8050357021445931, 0.7930532490728706, 0.6811334628190899, 0.8158655964999995, 0.8335348262848262, 0.848492463658258, 0.8859081804947857, 0.8217112610247621]}, {\"categories\": [\"0\", \"1\", \"2\", \"3\", \"4\", \"5\", \"6\", \"7\", \"8\", \"9\", \"10\"], \"mode\": \"lines\", \"name\": \"precision_score_macro_max\", \"stepped\": true, \"type\": \"scatter\", \"data\": [0.7889041743265773, 0.8086642059265495, 0.8303459263267825, 0.8303459263267825, 0.8303459263267825, 0.8303459263267825, 0.8303459263267825, 0.8335348262848262, 0.848492463658258, 0.8859081804947857, 0.8859081804947857]}], \"recall_score_weighted\": [{\"categories\": [\"0\", \"1\", \"2\", \"3\", \"4\", \"5\", \"6\", \"7\", \"8\", \"9\", \"10\"], \"mode\": \"markers\", \"name\": \"recall_score_weighted\", \"stepped\": false, \"type\": \"scatter\", \"data\": [0.8059887005649717, 0.8259322033898304, 0.8493785310734463, 0.8259322033898305, 0.8192655367231637, 0.7157627118644067, 0.8327118644067797, 0.836271186440678, 0.8496045197740113, 0.8763276836158193, 0.8393785310734463]}, {\"categories\": [\"0\", \"1\", \"2\", \"3\", \"4\", \"5\", \"6\", \"7\", \"8\", \"9\", \"10\"], \"mode\": \"lines\", \"name\": \"recall_score_weighted_max\", \"stepped\": true, \"type\": \"scatter\", \"data\": [0.8059887005649717, 0.8259322033898304, 0.8493785310734463, 0.8493785310734463, 0.8493785310734463, 0.8493785310734463, 0.8493785310734463, 0.8493785310734463, 0.8496045197740113, 0.8763276836158193, 0.8763276836158193]}], \"f1_score_micro\": [{\"categories\": [\"0\", \"1\", \"2\", \"3\", \"4\", \"5\", \"6\", \"7\", \"8\", \"9\", \"10\"], \"mode\": \"markers\", \"name\": \"f1_score_micro\", \"stepped\": false, \"type\": \"scatter\", \"data\": [0.8059887005649718, 0.8259322033898304, 0.8493785310734463, 0.8259322033898305, 0.8192655367231637, 0.7157627118644067, 0.8327118644067797, 0.836271186440678, 0.8496045197740113, 0.8763276836158193, 0.8393785310734463]}, {\"categories\": [\"0\", \"1\", \"2\", \"3\", \"4\", \"5\", \"6\", \"7\", \"8\", \"9\", \"10\"], \"mode\": \"lines\", \"name\": \"f1_score_micro_max\", \"stepped\": true, \"type\": \"scatter\", \"data\": [0.8059887005649718, 0.8259322033898304, 0.8493785310734463, 0.8493785310734463, 0.8493785310734463, 0.8493785310734463, 0.8493785310734463, 0.8493785310734463, 0.8496045197740113, 0.8763276836158193, 0.8763276836158193]}], \"average_precision_score_weighted\": [{\"categories\": [\"0\", \"1\", \"2\", \"3\", \"4\", \"5\", \"6\", \"7\", \"8\", \"9\", \"10\"], \"mode\": \"markers\", \"name\": \"average_precision_score_weighted\", \"stepped\": false, \"type\": \"scatter\", \"data\": [0.8955370396295249, 0.9103506263314479, 0.9116578176355812, 0.9101362332301844, 0.9268004845962683, 0.7679369792200226, 0.9204785408917214, 0.9164970331827844, 0.9044364305652293, 0.9216747825657275, 0.9254447394910137]}, {\"categories\": [\"0\", \"1\", \"2\", \"3\", \"4\", \"5\", \"6\", \"7\", \"8\", \"9\", \"10\"], \"mode\": \"lines\", \"name\": \"average_precision_score_weighted_max\", \"stepped\": true, \"type\": \"scatter\", \"data\": [0.8955370396295249, 0.9103506263314479, 0.9116578176355812, 0.9116578176355812, 0.9268004845962683, 0.9268004845962683, 0.9268004845962683, 0.9268004845962683, 0.9268004845962683, 0.9268004845962683, 0.9268004845962683]}], \"f1_score_macro\": [{\"categories\": [\"0\", \"1\", \"2\", \"3\", \"4\", \"5\", \"6\", \"7\", \"8\", \"9\", \"10\"], \"mode\": \"markers\", \"name\": \"f1_score_macro\", \"stepped\": false, \"type\": \"scatter\", \"data\": [0.7682096405971308, 0.7972526241921125, 0.817429065650271, 0.7830502707213165, 0.7889939891494683, 0.6203909207674269, 0.7971248766866948, 0.8025277572578589, 0.8161275803155832, 0.8487715597828899, 0.80874427935623]}, {\"categories\": [\"0\", \"1\", \"2\", \"3\", \"4\", \"5\", \"6\", \"7\", \"8\", \"9\", \"10\"], \"mode\": \"lines\", \"name\": \"f1_score_macro_max\", \"stepped\": true, \"type\": \"scatter\", \"data\": [0.7682096405971308, 0.7972526241921125, 0.817429065650271, 0.817429065650271, 0.817429065650271, 0.817429065650271, 0.817429065650271, 0.817429065650271, 0.817429065650271, 0.8487715597828899, 0.8487715597828899]}], \"balanced_accuracy\": [{\"categories\": [\"0\", \"1\", \"2\", \"3\", \"4\", \"5\", \"6\", \"7\", \"8\", \"9\", \"10\"], \"mode\": \"markers\", \"name\": \"balanced_accuracy\", \"stepped\": false, \"type\": \"scatter\", \"data\": [0.7760209025470652, 0.8060125968992248, 0.8164119601328903, 0.7819774363233666, 0.8039887873754152, 0.6293327796234773, 0.8019179125138427, 0.8021130952380953, 0.8112458471760797, 0.8445833333333332, 0.8152470930232558]}, {\"categories\": [\"0\", \"1\", \"2\", \"3\", \"4\", \"5\", \"6\", \"7\", \"8\", \"9\", \"10\"], \"mode\": \"lines\", \"name\": \"balanced_accuracy_max\", \"stepped\": true, \"type\": \"scatter\", \"data\": [0.7760209025470652, 0.8060125968992248, 0.8164119601328903, 0.8164119601328903, 0.8164119601328903, 0.8164119601328903, 0.8164119601328903, 0.8164119601328903, 0.8164119601328903, 0.8445833333333332, 0.8445833333333332]}]}, \"metricName\": null, \"primaryMetricName\": \"accuracy\", \"showLegend\": false}, \"run_metrics\": [{\"name\": \"experiment_status\", \"run_id\": \"AutoML_94ff2bf8-d1ab-42ef-bdb5-d5219de4ff4e\", \"categories\": [0, 1, 2, 3, 4, 5, 6, 7, 8, 9, 10, 11, 12, 13], \"series\": [{\"data\": [\"DatasetEvaluation\", \"FeaturesGeneration\", \"DatasetFeaturization\", \"DatasetFeaturizationCompleted\", \"DatasetCrossValidationSplit\", \"ModelSelection\", \"BestRunExplainModel\", \"ModelExplanationDataSetSetup\", \"PickSurrogateModel\", \"EngineeredFeatureExplanations\", \"EngineeredFeatureExplanations\", \"RawFeaturesExplanations\", \"RawFeaturesExplanations\", \"BestRunExplainModel\"]}]}, {\"name\": \"experiment_status_description\", \"run_id\": \"AutoML_94ff2bf8-d1ab-42ef-bdb5-d5219de4ff4e\", \"categories\": [0, 1, 2, 3, 4, 5, 6, 7, 8, 9, 10, 11, 12, 13], \"series\": [{\"data\": [\"Gathering dataset statistics.\", \"Generating features for the dataset.\", \"Beginning to fit featurizers and featurize the dataset.\", \"Completed fit featurizers and featurizing the dataset.\", \"Generating individually featurized CV splits.\", \"Beginning model selection.\", \"Best run model explanations started\", \"Model explanations data setup completed\", \"Choosing LightGBM as the surrogate model for explanations\", \"Computation of engineered features started\", \"Computation of engineered features completed\", \"Computation of raw features started\", \"Computation of raw features completed\", \"Best run model explanations completed\"]}]}, {\"name\": \"recall_score_macro\", \"run_id\": \"AutoML_94ff2bf8-d1ab-42ef-bdb5-d5219de4ff4e\", \"categories\": [0], \"series\": [{\"data\": [0.8445833333333332]}]}, {\"name\": \"norm_macro_recall\", \"run_id\": \"AutoML_94ff2bf8-d1ab-42ef-bdb5-d5219de4ff4e\", \"categories\": [0], \"series\": [{\"data\": [0.6891666666666667]}]}, {\"name\": \"f1_score_weighted\", \"run_id\": \"AutoML_94ff2bf8-d1ab-42ef-bdb5-d5219de4ff4e\", \"categories\": [0], \"series\": [{\"data\": [0.8712373429020379]}]}, {\"name\": \"AUC_micro\", \"run_id\": \"AutoML_94ff2bf8-d1ab-42ef-bdb5-d5219de4ff4e\", \"categories\": [0], \"series\": [{\"data\": [0.9144829550895336]}]}, {\"name\": \"average_precision_score_macro\", \"run_id\": \"AutoML_94ff2bf8-d1ab-42ef-bdb5-d5219de4ff4e\", \"categories\": [0], \"series\": [{\"data\": [0.8998958306439382]}]}, {\"name\": \"f1_score_macro\", \"run_id\": \"AutoML_94ff2bf8-d1ab-42ef-bdb5-d5219de4ff4e\", \"categories\": [0], \"series\": [{\"data\": [0.8487715597828899]}]}, {\"name\": \"weighted_accuracy\", \"run_id\": \"AutoML_94ff2bf8-d1ab-42ef-bdb5-d5219de4ff4e\", \"categories\": [0], \"series\": [{\"data\": [0.8977905378029968]}]}, {\"name\": \"f1_score_micro\", \"run_id\": \"AutoML_94ff2bf8-d1ab-42ef-bdb5-d5219de4ff4e\", \"categories\": [0], \"series\": [{\"data\": [0.8763276836158193]}]}, {\"name\": \"AUC_weighted\", \"run_id\": \"AutoML_94ff2bf8-d1ab-42ef-bdb5-d5219de4ff4e\", \"categories\": [0], \"series\": [{\"data\": [0.9123256506090808]}]}, {\"name\": \"precision_score_weighted\", \"run_id\": \"AutoML_94ff2bf8-d1ab-42ef-bdb5-d5219de4ff4e\", \"categories\": [0], \"series\": [{\"data\": [0.894403880597974]}]}, {\"name\": \"matthews_correlation\", \"run_id\": \"AutoML_94ff2bf8-d1ab-42ef-bdb5-d5219de4ff4e\", \"categories\": [0], \"series\": [{\"data\": [0.7265774471999167]}]}, {\"name\": \"precision_score_micro\", \"run_id\": \"AutoML_94ff2bf8-d1ab-42ef-bdb5-d5219de4ff4e\", \"categories\": [0], \"series\": [{\"data\": [0.8763276836158193]}]}, {\"name\": \"average_precision_score_weighted\", \"run_id\": \"AutoML_94ff2bf8-d1ab-42ef-bdb5-d5219de4ff4e\", \"categories\": [0], \"series\": [{\"data\": [0.9216747825657275]}]}, {\"name\": \"AUC_macro\", \"run_id\": \"AutoML_94ff2bf8-d1ab-42ef-bdb5-d5219de4ff4e\", \"categories\": [0], \"series\": [{\"data\": [0.9123256506090808]}]}, {\"name\": \"average_precision_score_micro\", \"run_id\": \"AutoML_94ff2bf8-d1ab-42ef-bdb5-d5219de4ff4e\", \"categories\": [0], \"series\": [{\"data\": [0.914001363343919]}]}, {\"name\": \"precision_score_macro\", \"run_id\": \"AutoML_94ff2bf8-d1ab-42ef-bdb5-d5219de4ff4e\", \"categories\": [0], \"series\": [{\"data\": [0.8859081804947857]}]}, {\"name\": \"accuracy\", \"run_id\": \"AutoML_94ff2bf8-d1ab-42ef-bdb5-d5219de4ff4e\", \"categories\": [0], \"series\": [{\"data\": [0.8763276836158193]}]}, {\"name\": \"log_loss\", \"run_id\": \"AutoML_94ff2bf8-d1ab-42ef-bdb5-d5219de4ff4e\", \"categories\": [0], \"series\": [{\"data\": [0.3849086300466243]}]}, {\"name\": \"recall_score_micro\", \"run_id\": \"AutoML_94ff2bf8-d1ab-42ef-bdb5-d5219de4ff4e\", \"categories\": [0], \"series\": [{\"data\": [0.8763276836158193]}]}, {\"name\": \"balanced_accuracy\", \"run_id\": \"AutoML_94ff2bf8-d1ab-42ef-bdb5-d5219de4ff4e\", \"categories\": [0], \"series\": [{\"data\": [0.8445833333333332]}]}, {\"name\": \"recall_score_weighted\", \"run_id\": \"AutoML_94ff2bf8-d1ab-42ef-bdb5-d5219de4ff4e\", \"categories\": [0], \"series\": [{\"data\": [0.8763276836158193]}]}], \"run_logs\": \"\\nRun is completed.\", \"graph\": {}, \"widget_settings\": {\"childWidgetDisplay\": \"popup\", \"send_telemetry\": false, \"log_level\": \"INFO\", \"sdk_version\": \"1.32.0\"}, \"loading\": false}"
          },
          "metadata": {}
        }
      ],
      "execution_count": 22,
      "metadata": {
        "gather": {
          "logged": 1627883547892
        },
        "jupyter": {
          "outputs_hidden": false,
          "source_hidden": false
        },
        "nteract": {
          "transient": {
            "deleting": false
          }
        }
      }
    },
    {
      "cell_type": "code",
      "source": [
        "automl_run.wait_for_completion(show_output=False)"
      ],
      "outputs": [
        {
          "output_type": "execute_result",
          "execution_count": 23,
          "data": {
            "text/plain": "{'runId': 'AutoML_94ff2bf8-d1ab-42ef-bdb5-d5219de4ff4e',\n 'target': 'cpucluster',\n 'status': 'Completed',\n 'startTimeUtc': '2021-08-02T05:47:18.156659Z',\n 'endTimeUtc': '2021-08-02T06:14:59.313177Z',\n 'properties': {'num_iterations': '1000',\n  'training_type': 'TrainFull',\n  'acquisition_function': 'EI',\n  'primary_metric': 'accuracy',\n  'train_split': '0',\n  'acquisition_parameter': '0',\n  'num_cross_validation': '5',\n  'target': 'cpucluster',\n  'AMLSettingsJsonString': '{\"path\":null,\"name\":\"automl_capstone_exp\",\"subscription_id\":\"4aa2e7df-e0fb-4531-86c0-9fde89dcf4fa\",\"resource_group\":\"mlrg\",\"workspace_name\":\"mltrial\",\"region\":\"eastus\",\"compute_target\":\"cpucluster\",\"spark_service\":null,\"azure_service\":\"remote\",\"many_models\":false,\"pipeline_fetch_max_batch_size\":1,\"enable_batch_run\":false,\"enable_run_restructure\":false,\"start_auxiliary_runs_before_parent_complete\":false,\"enable_code_generation\":false,\"iterations\":1000,\"primary_metric\":\"accuracy\",\"task_type\":\"classification\",\"data_script\":null,\"test_size\":0.0,\"validation_size\":0.0,\"n_cross_validations\":5,\"y_min\":null,\"y_max\":null,\"num_classes\":null,\"featurization\":\"auto\",\"_ignore_package_version_incompatibilities\":false,\"is_timeseries\":false,\"max_cores_per_iteration\":1,\"max_concurrent_iterations\":1,\"iteration_timeout_minutes\":null,\"mem_in_mb\":null,\"enforce_time_on_windows\":false,\"experiment_timeout_minutes\":20,\"experiment_exit_score\":null,\"whitelist_models\":null,\"blacklist_algos\":[\"TensorFlowLinearClassifier\",\"TensorFlowDNN\"],\"supported_models\":[\"LogisticRegression\",\"BernoulliNaiveBayes\",\"SVM\",\"GradientBoosting\",\"KNN\",\"AveragedPerceptronClassifier\",\"TensorFlowLinearClassifier\",\"TensorFlowDNN\",\"ExtremeRandomTrees\",\"XGBoostClassifier\",\"LinearSVM\",\"RandomForest\",\"SGD\",\"LightGBM\",\"MultinomialNaiveBayes\",\"DecisionTree\"],\"private_models\":[],\"auto_blacklist\":true,\"blacklist_samples_reached\":false,\"exclude_nan_labels\":true,\"verbosity\":20,\"_debug_log\":\"azureml_automl.log\",\"show_warnings\":false,\"model_explainability\":true,\"service_url\":null,\"sdk_url\":null,\"sdk_packages\":null,\"enable_onnx_compatible_models\":false,\"enable_split_onnx_featurizer_estimator_models\":false,\"vm_type\":\"STANDARD_DS12_V2\",\"telemetry_verbosity\":20,\"send_telemetry\":true,\"enable_dnn\":false,\"scenario\":\"SDK-1.13.0\",\"environment_label\":null,\"save_mlflow\":false,\"force_text_dnn\":false,\"enable_feature_sweeping\":true,\"enable_early_stopping\":true,\"early_stopping_n_iters\":10,\"metrics\":null,\"enable_metric_confidence\":false,\"enable_ensembling\":true,\"enable_stack_ensembling\":true,\"ensemble_iterations\":15,\"enable_tf\":false,\"enable_subsampling\":null,\"subsample_seed\":null,\"enable_nimbusml\":false,\"enable_streaming\":false,\"force_streaming\":false,\"track_child_runs\":true,\"allowed_private_models\":[],\"label_column_name\":\"DEATH_EVENT\",\"weight_column_name\":null,\"cv_split_column_names\":null,\"enable_local_managed\":false,\"_local_managed_run_id\":null,\"cost_mode\":1,\"lag_length\":0,\"metric_operation\":\"maximize\",\"preprocess\":true}',\n  'DataPrepJsonString': '{\\\\\"training_data\\\\\": {\\\\\"datasetId\\\\\": \\\\\"9d6a1df3-b413-4338-8f7e-315492df17ef\\\\\"}, \\\\\"datasets\\\\\": 0}',\n  'EnableSubsampling': None,\n  'runTemplate': 'AutoML',\n  'azureml.runsource': 'automl',\n  'display_task_type': 'classification',\n  'dependencies_versions': '{\"azureml-widgets\": \"1.32.0\", \"azureml-train\": \"1.32.0\", \"azureml-train-restclients-hyperdrive\": \"1.32.0\", \"azureml-train-core\": \"1.32.0\", \"azureml-train-automl\": \"1.32.0\", \"azureml-train-automl-runtime\": \"1.32.0\", \"azureml-train-automl-client\": \"1.32.0\", \"azureml-tensorboard\": \"1.32.0\", \"azureml-telemetry\": \"1.32.0\", \"azureml-sdk\": \"1.32.0\", \"azureml-samples\": \"0+unknown\", \"azureml-responsibleai\": \"1.32.0\", \"azureml-pipeline\": \"1.32.0\", \"azureml-pipeline-steps\": \"1.32.0\", \"azureml-pipeline-core\": \"1.32.0\", \"azureml-opendatasets\": \"1.32.0\", \"azureml-model-management-sdk\": \"1.0.1b6.post1\", \"azureml-mlflow\": \"1.32.0\", \"azureml-interpret\": \"1.32.0\", \"azureml-explain-model\": \"1.32.0\", \"azureml-defaults\": \"1.32.0\", \"azureml-dataset-runtime\": \"1.32.0\", \"azureml-dataprep\": \"2.18.0\", \"azureml-dataprep-rslex\": \"1.16.1\", \"azureml-dataprep-native\": \"36.0.0\", \"azureml-datadrift\": \"1.32.0\", \"azureml-core\": \"1.32.0\", \"azureml-contrib-services\": \"1.32.0\", \"azureml-contrib-server\": \"1.32.0\", \"azureml-contrib-reinforcementlearning\": \"1.32.0\", \"azureml-contrib-pipeline-steps\": \"1.32.0\", \"azureml-contrib-notebook\": \"1.32.0\", \"azureml-contrib-fairness\": \"1.32.0\", \"azureml-contrib-dataset\": \"1.32.0\", \"azureml-cli-common\": \"1.32.0\", \"azureml-automl-runtime\": \"1.32.0\", \"azureml-automl-dnn-nlp\": \"1.32.0\", \"azureml-automl-core\": \"1.32.0\", \"azureml-accel-models\": \"1.32.0\"}',\n  '_aml_system_scenario_identification': 'Remote.Parent',\n  'ClientType': 'SDK',\n  'environment_cpu_name': 'AzureML-AutoML',\n  'environment_cpu_label': 'prod',\n  'environment_gpu_name': 'AzureML-AutoML-GPU',\n  'environment_gpu_label': 'prod',\n  'root_attribution': 'automl',\n  'attribution': 'AutoML',\n  'Orchestrator': 'AutoML',\n  'CancelUri': 'https://eastus.api.azureml.ms/jasmine/v1.0/subscriptions/4aa2e7df-e0fb-4531-86c0-9fde89dcf4fa/resourceGroups/mlrg/providers/Microsoft.MachineLearningServices/workspaces/mltrial/experimentids/d60e2097-5a33-414f-a3d5-62b4293446b7/cancel/AutoML_94ff2bf8-d1ab-42ef-bdb5-d5219de4ff4e',\n  'ClientSdkVersion': '1.32.0',\n  'snapshotId': '00000000-0000-0000-0000-000000000000',\n  'SetupRunId': 'AutoML_94ff2bf8-d1ab-42ef-bdb5-d5219de4ff4e_setup',\n  'SetupRunContainerId': 'dcid.AutoML_94ff2bf8-d1ab-42ef-bdb5-d5219de4ff4e_setup',\n  'FeaturizationRunJsonPath': 'featurizer_container.json',\n  'FeaturizationRunId': 'AutoML_94ff2bf8-d1ab-42ef-bdb5-d5219de4ff4e_featurize',\n  'ProblemInfoJsonString': '{\"dataset_num_categorical\": 0, \"is_sparse\": false, \"subsampling\": false, \"has_extra_col\": true, \"dataset_classes\": 2, \"dataset_features\": 12, \"dataset_samples\": 299, \"single_frequency_class_detected\": false}',\n  'ModelExplainRunId': 'AutoML_94ff2bf8-d1ab-42ef-bdb5-d5219de4ff4e_ModelExplain'},\n 'inputDatasets': [{'dataset': {'id': '9d6a1df3-b413-4338-8f7e-315492df17ef'}, 'consumptionDetails': {'type': 'RunInput', 'inputName': 'training_data', 'mechanism': 'Direct'}}],\n 'outputDatasets': [],\n 'logFiles': {},\n 'submittedBy': 'Mash N'}"
          },
          "metadata": {}
        }
      ],
      "execution_count": 23,
      "metadata": {
        "collapsed": true,
        "jupyter": {
          "source_hidden": false,
          "outputs_hidden": false
        },
        "nteract": {
          "transient": {
            "deleting": false
          }
        },
        "gather": {
          "logged": 1627884891488
        }
      }
    },
    {
      "cell_type": "markdown",
      "source": [
        "## Best Model\n",
        "\n",
        "Getting  the best model from the automl experiments and display all the properties of the model.\n",
        "\n"
      ],
      "metadata": {}
    },
    {
      "cell_type": "code",
      "source": [
        "best_automl_run = automl_run.get_best_child()\r\n"
      ],
      "outputs": [],
      "execution_count": 24,
      "metadata": {
        "gather": {
          "logged": 1627887441665
        },
        "jupyter": {
          "outputs_hidden": false,
          "source_hidden": false
        },
        "nteract": {
          "transient": {
            "deleting": false
          }
        }
      }
    },
    {
      "cell_type": "code",
      "source": [
        "best_automl_run"
      ],
      "outputs": [
        {
          "output_type": "execute_result",
          "execution_count": 25,
          "data": {
            "text/plain": "Run(Experiment: automl_capstone_exp,\nId: AutoML_94ff2bf8-d1ab-42ef-bdb5-d5219de4ff4e_9,\nType: azureml.scriptrun,\nStatus: Completed)",
            "text/html": "<table style=\"width:100%\"><tr><th>Experiment</th><th>Id</th><th>Type</th><th>Status</th><th>Details Page</th><th>Docs Page</th></tr><tr><td>automl_capstone_exp</td><td>AutoML_94ff2bf8-d1ab-42ef-bdb5-d5219de4ff4e_9</td><td>azureml.scriptrun</td><td>Completed</td><td><a href=\"https://ml.azure.com/runs/AutoML_94ff2bf8-d1ab-42ef-bdb5-d5219de4ff4e_9?wsid=/subscriptions/4aa2e7df-e0fb-4531-86c0-9fde89dcf4fa/resourcegroups/mlrg/workspaces/mltrial&amp;tid=42cd7fae-352f-4a09-a1b8-3cae854e5ad8\" target=\"_blank\" rel=\"noopener\">Link to Azure Machine Learning studio</a></td><td><a href=\"https://docs.microsoft.com/en-us/python/api/azureml-core/azureml.core.run.Run?view=azure-ml-py\" target=\"_blank\" rel=\"noopener\">Link to Documentation</a></td></tr></table>"
          },
          "metadata": {}
        }
      ],
      "execution_count": 25,
      "metadata": {
        "collapsed": true,
        "jupyter": {
          "source_hidden": false,
          "outputs_hidden": false
        },
        "nteract": {
          "transient": {
            "deleting": false
          }
        },
        "gather": {
          "logged": 1627887459194
        }
      }
    },
    {
      "cell_type": "code",
      "source": [
        "best_run_metrics = best_automl_run.get_metrics() # or other runs with runID\r\n",
        "for metric_name in best_run_metrics:\r\n",
        "     metric = best_run_metrics[metric_name]\r\n",
        "     print(metric_name, metric)"
      ],
      "outputs": [
        {
          "output_type": "stream",
          "name": "stdout",
          "text": [
            "recall_score_weighted 0.8763276836158193\n",
            "average_precision_score_micro 0.914001363343919\n",
            "average_precision_score_weighted 0.9216747825657275\n",
            "precision_score_micro 0.8763276836158193\n",
            "recall_score_macro 0.8445833333333332\n",
            "f1_score_macro 0.8487715597828899\n",
            "f1_score_micro 0.8763276836158193\n",
            "precision_score_macro 0.8859081804947857\n",
            "matthews_correlation 0.7265774471999167\n",
            "AUC_weighted 0.9123256506090808\n",
            "balanced_accuracy 0.8445833333333332\n",
            "recall_score_micro 0.8763276836158193\n",
            "AUC_micro 0.9144829550895336\n",
            "weighted_accuracy 0.8977905378029968\n",
            "precision_score_weighted 0.894403880597974\n",
            "norm_macro_recall 0.6891666666666667\n",
            "average_precision_score_macro 0.8998958306439382\n",
            "accuracy 0.8763276836158193\n",
            "f1_score_weighted 0.8712373429020379\n",
            "AUC_macro 0.9123256506090808\n",
            "log_loss 0.3849086300466243\n",
            "accuracy_table aml://artifactId/ExperimentRun/dcid.AutoML_94ff2bf8-d1ab-42ef-bdb5-d5219de4ff4e_9/accuracy_table\n",
            "confusion_matrix aml://artifactId/ExperimentRun/dcid.AutoML_94ff2bf8-d1ab-42ef-bdb5-d5219de4ff4e_9/confusion_matrix\n"
          ]
        }
      ],
      "execution_count": 26,
      "metadata": {
        "collapsed": true,
        "jupyter": {
          "source_hidden": false,
          "outputs_hidden": false
        },
        "nteract": {
          "transient": {
            "deleting": false
          }
        },
        "gather": {
          "logged": 1627887467252
        }
      }
    },
    {
      "cell_type": "code",
      "source": [
        "best_automl_run.get_file_names()"
      ],
      "outputs": [
        {
          "output_type": "execute_result",
          "execution_count": 27,
          "data": {
            "text/plain": "['accuracy_table',\n 'automl_driver.py',\n 'azureml-logs/55_azureml-execution-tvmps_a3e0788c9ba62d73bc2e41d62582fcc410ae0f4c2c1d248dcbba1accb8c96dc4_d.txt',\n 'azureml-logs/65_job_prep-tvmps_a3e0788c9ba62d73bc2e41d62582fcc410ae0f4c2c1d248dcbba1accb8c96dc4_d.txt',\n 'azureml-logs/70_driver_log.txt',\n 'azureml-logs/75_job_post-tvmps_a3e0788c9ba62d73bc2e41d62582fcc410ae0f4c2c1d248dcbba1accb8c96dc4_d.txt',\n 'azureml-logs/process_info.json',\n 'azureml-logs/process_status.json',\n 'confusion_matrix',\n 'explanation/79a65aa7/classes.interpret.json',\n 'explanation/79a65aa7/eval_data_viz.interpret.json',\n 'explanation/79a65aa7/expected_values.interpret.json',\n 'explanation/79a65aa7/features.interpret.json',\n 'explanation/79a65aa7/global_names/0.interpret.json',\n 'explanation/79a65aa7/global_rank/0.interpret.json',\n 'explanation/79a65aa7/global_values/0.interpret.json',\n 'explanation/79a65aa7/local_importance_values.interpret.json',\n 'explanation/79a65aa7/per_class_names/0.interpret.json',\n 'explanation/79a65aa7/per_class_rank/0.interpret.json',\n 'explanation/79a65aa7/per_class_values/0.interpret.json',\n 'explanation/79a65aa7/rich_metadata.interpret.json',\n 'explanation/79a65aa7/true_ys_viz.interpret.json',\n 'explanation/79a65aa7/visualization_dict.interpret.json',\n 'explanation/9bbccadd/classes.interpret.json',\n 'explanation/9bbccadd/eval_data_viz.interpret.json',\n 'explanation/9bbccadd/expected_values.interpret.json',\n 'explanation/9bbccadd/features.interpret.json',\n 'explanation/9bbccadd/global_names/0.interpret.json',\n 'explanation/9bbccadd/global_rank/0.interpret.json',\n 'explanation/9bbccadd/global_values/0.interpret.json',\n 'explanation/9bbccadd/local_importance_values.interpret.json',\n 'explanation/9bbccadd/per_class_names/0.interpret.json',\n 'explanation/9bbccadd/per_class_rank/0.interpret.json',\n 'explanation/9bbccadd/per_class_values/0.interpret.json',\n 'explanation/9bbccadd/rich_metadata.interpret.json',\n 'explanation/9bbccadd/true_ys_viz.interpret.json',\n 'explanation/9bbccadd/visualization_dict.interpret.json',\n 'explanation/9bbccadd/ys_pred_proba_viz.interpret.json',\n 'explanation/9bbccadd/ys_pred_viz.interpret.json',\n 'logs/azureml/94_azureml.log',\n 'logs/azureml/azureml_automl.log',\n 'logs/azureml/job_prep_azureml.log',\n 'logs/azureml/job_release_azureml.log',\n 'outputs/conda_env_v_1_0_0.yml',\n 'outputs/env_dependencies.json',\n 'outputs/internal_cross_validated_models.pkl',\n 'outputs/model.pkl',\n 'outputs/pipeline_graph.json',\n 'outputs/scoring_file_v_1_0_0.py',\n 'outputs/scoring_file_v_2_0_0.py']"
          },
          "metadata": {}
        }
      ],
      "execution_count": 27,
      "metadata": {
        "collapsed": true,
        "jupyter": {
          "source_hidden": false,
          "outputs_hidden": false
        },
        "nteract": {
          "transient": {
            "deleting": false
          }
        },
        "gather": {
          "logged": 1627887468099
        }
      }
    },
    {
      "cell_type": "code",
      "source": [
        "#TODO: Save the best model in Outputs Folder\r\n",
        "\r\n",
        "outputs_folder = os.path.join(os.getcwd(),'outputs')\r\n",
        "os.makedirs(outputs_folder, exist_ok=True)\r\n",
        "best_automl_run.download_file('outputs/model.pkl', output_file_path='./outputs/')\r\n",
        "#Downloading the Scoring File\r\n",
        "best_automl_run.download_file('outputs/scoring_file_v_1_0_0.py', output_file_path='./outputs/score1.py')\r\n",
        "#downloading the Environment\r\n",
        "best_automl_run.download_file('outputs/conda_env_v_1_0_0.yml', output_file_path='./outputs/env.yaml')\r\n"
      ],
      "outputs": [],
      "execution_count": 28,
      "metadata": {
        "gather": {
          "logged": 1627887474830
        },
        "jupyter": {
          "outputs_hidden": false,
          "source_hidden": false
        },
        "nteract": {
          "transient": {
            "deleting": false
          }
        }
      }
    },
    {
      "cell_type": "markdown",
      "source": [
        "## Model Deployment\n",
        "\n",
        "Remember you have to deploy only one of the two models you trained.. Perform the steps in the rest of this notebook only if you wish to deploy this model.\n",
        "\n",
        "Registering the model, creating an inference config and deploying the model as a web service."
      ],
      "metadata": {}
    },
    {
      "cell_type": "code",
      "source": [
        "#Register the Best model\r\n",
        "model_auto = best_automl_run.register_model(model_name='AUTOML_ATTEMPT',description ='Heart Failure Prediction using AutoML',\r\n",
        "                           model_path='outputs/model.pkl')\r\n"
      ],
      "outputs": [],
      "execution_count": 30,
      "metadata": {
        "gather": {
          "logged": 1627888165053
        },
        "jupyter": {
          "outputs_hidden": false,
          "source_hidden": false
        },
        "nteract": {
          "transient": {
            "deleting": false
          }
        }
      }
    },
    {
      "cell_type": "code",
      "source": [
        "from azureml.core.environment import Environment\r\n",
        "from azureml.core.model import InferenceConfig\r\n",
        "from azureml.core.model import Model\r\n",
        "from azureml.core.webservice import AciWebservice\r\n",
        "from azureml.core.webservice import webservice\r\n",
        "\r\n",
        "infenv = Environment.from_conda_specification(name = \"infenv\", file_path = \"outputs/env.yaml\")\r\n",
        "\r\n",
        "# Combine scoring script & environment in Inference configuration\r\n",
        "inference_config = InferenceConfig(entry_script='outputs/score1.py', \r\n",
        "                                    environment=infenv\r\n",
        "                                    )\r\n",
        "\r\n",
        "# Set deployment configuration\r\n",
        "deployment_config = AciWebservice.deploy_configuration(cpu_cores = 1, memory_gb = 1,tags={'type':'automl-classification'},\r\n",
        "                                                        description='Sample Web Service for AutoML Classification')\r\n",
        "\r\n",
        "aci_service_name = \"automl-classification\"\r\n",
        "print (aci_service_name)\r\n",
        "aci_service = Model.deploy(ws,aci_service_name,[model_auto],inference_config,deployment_config)\r\n",
        "aci_service.wait_for_deployment(True)\r\n",
        "print(aci_service.state)\r\n",
        "\r\n"
      ],
      "outputs": [
        {
          "output_type": "stream",
          "name": "stdout",
          "text": [
            "automl-classification\n",
            "Tips: You can try get_logs(): https://aka.ms/debugimage#dockerlog or local deployment: https://aka.ms/debugimage#debug-locally to debug if deployment takes longer than 10 minutes.\n",
            "Running\n",
            "2021-08-02 07:09:49+00:00 Creating Container Registry if not exists..\n",
            "2021-08-02 07:19:49+00:00 Registering the environment..\n",
            "2021-08-02 07:19:56+00:00 Building image..\n",
            "2021-08-02 07:34:45+00:00 Generating deployment configuration..\n",
            "2021-08-02 07:34:46+00:00 Submitting deployment to compute..\n",
            "2021-08-02 07:34:51+00:00 Checking the status of deployment automl-classification..\n",
            "2021-08-02 07:39:20+00:00 Checking the status of inference endpoint automl-classification.\n",
            "Succeeded\n",
            "ACI service creation operation finished, operation \"Succeeded\"\n",
            "Healthy\n"
          ]
        }
      ],
      "execution_count": 31,
      "metadata": {
        "collapsed": true,
        "jupyter": {
          "source_hidden": false,
          "outputs_hidden": false
        },
        "nteract": {
          "transient": {
            "deleting": false
          }
        },
        "gather": {
          "logged": 1627889951006
        }
      }
    },
    {
      "cell_type": "markdown",
      "source": [
        "Sending a request to the web service  deployed to test it."
      ],
      "metadata": {
        "collapsed": true,
        "gather": {
          "logged": 1598431657736
        },
        "jupyter": {
          "outputs_hidden": false,
          "source_hidden": false
        },
        "nteract": {
          "transient": {
            "deleting": false
          }
        }
      }
    },
    {
      "cell_type": "code",
      "source": [
        "#Create the holdout set as a subset from the Train file.\r\n",
        "#First 10000 used for training\r\n",
        "#Remaining is being used for testing\r\n",
        "validation =pd.read_csv('./data/heart_failure_clinical_records_dataset.csv',skiprows=[1,250])\r\n",
        "validation_labels = validation['DEATH_EVENT']\r\n",
        "validation.drop(columns=['DEATH_EVENT'],axis=1,inplace=True)\r\n",
        "\r\n",
        "test_sample = json.dumps({\"data\":validation.to_dict(orient='records')})\r\n",
        "response = aci_service.run(test_sample)\r\n",
        "response"
      ],
      "outputs": [
        {
          "output_type": "execute_result",
          "execution_count": 32,
          "data": {
            "text/plain": "'{\"result\": [1, 1, 1, 1, 1, 1, 1, 1, 1, 1, 1, 1, 1, 0, 1, 1, 1, 1, 1, 1, 1, 1, 0, 1, 1, 1, 1, 1, 1, 1, 1, 1, 1, 1, 1, 1, 1, 1, 1, 1, 1, 1, 1, 1, 1, 1, 1, 1, 1, 1, 1, 1, 1, 1, 1, 0, 0, 1, 1, 1, 1, 0, 1, 0, 1, 1, 1, 1, 1, 0, 0, 1, 0, 1, 1, 0, 0, 0, 0, 0, 0, 1, 0, 0, 0, 0, 0, 0, 0, 0, 0, 0, 1, 0, 0, 0, 0, 0, 0, 0, 0, 0, 0, 0, 1, 0, 0, 0, 0, 0, 0, 0, 0, 0, 0, 0, 0, 0, 1, 0, 0, 0, 0, 1, 0, 1, 0, 0, 0, 0, 0, 0, 0, 0, 0, 0, 0, 0, 0, 0, 0, 0, 0, 1, 0, 0, 0, 1, 0, 1, 0, 0, 0, 0, 0, 0, 0, 0, 0, 0, 0, 0, 1, 0, 1, 0, 1, 0, 0, 0, 0, 0, 0, 0, 0, 0, 0, 0, 0, 0, 1, 0, 1, 0, 1, 0, 1, 0, 0, 0, 0, 0, 0, 1, 1, 0, 0, 0, 0, 0, 0, 0, 0, 0, 0, 0, 0, 0, 0, 0, 0, 0, 0, 0, 0, 0, 1, 0, 0, 1, 0, 0, 0, 0, 0, 0, 0, 0, 0, 1, 0, 0, 0, 0, 0, 0, 0, 0, 0, 0, 0, 0, 0, 0, 0, 1, 0, 0, 0, 0, 0, 0, 0, 0, 0, 0, 0, 0, 0, 0, 1, 0, 0, 0, 1, 0, 0, 0, 0, 0, 0, 0, 0, 0, 0, 0, 0, 0, 0, 0, 0, 0, 0, 0, 0, 0, 0, 0, 0, 0, 0, 0, 0, 0, 0, 0, 0]}'"
          },
          "metadata": {}
        }
      ],
      "execution_count": 32,
      "metadata": {
        "collapsed": true,
        "jupyter": {
          "source_hidden": false,
          "outputs_hidden": false
        },
        "nteract": {
          "transient": {
            "deleting": false
          }
        },
        "gather": {
          "logged": 1627890544258
        }
      }
    },
    {
      "cell_type": "code",
      "source": [
        "res_dict = json.loads(response)\r\n",
        "Predicted_label=pd.Series(res_dict['result'])\r\n",
        "from sklearn.metrics import accuracy_score,confusion_matrix\r\n",
        "print(accuracy_score(validation_labels,Predicted_label))\r\n",
        "print(confusion_matrix(validation_labels,Predicted_label))"
      ],
      "outputs": [
        {
          "output_type": "stream",
          "name": "stdout",
          "text": [
            "0.9562289562289562\n",
            "[[198   4]\n",
            " [  9  86]]\n"
          ]
        }
      ],
      "execution_count": 33,
      "metadata": {
        "collapsed": true,
        "jupyter": {
          "source_hidden": false,
          "outputs_hidden": false
        },
        "nteract": {
          "transient": {
            "deleting": false
          }
        },
        "gather": {
          "logged": 1627890601183
        }
      }
    },
    {
      "cell_type": "markdown",
      "source": [
        "TODO: In the cell below, print the logs of the web service and delete the service"
      ],
      "metadata": {
        "collapsed": true,
        "gather": {
          "logged": 1598432765711
        },
        "jupyter": {
          "outputs_hidden": false,
          "source_hidden": false
        },
        "nteract": {
          "transient": {
            "deleting": false
          }
        }
      }
    },
    {
      "cell_type": "code",
      "source": [
        "aci_service.get_logs(num_lines=5000, init=False)"
      ],
      "outputs": [
        {
          "output_type": "execute_result",
          "execution_count": 36,
          "data": {
            "text/plain": "'2021-08-02T07:39:03,959757200+00:00 - rsyslog/run \\n2021-08-02T07:39:03,964651000+00:00 - gunicorn/run \\nFile not found: /var/azureml-app/.\\nStarting HTTP server\\n2021-08-02T07:39:03,964657800+00:00 - iot-server/run \\n2021-08-02T07:39:04,004711100+00:00 - nginx/run \\nrsyslogd: /azureml-envs/azureml_c199a2d8511501c9bde5dfe3639e54c9/lib/libuuid.so.1: no version information available (required by rsyslogd)\\nEdgeHubConnectionString and IOTEDGE_IOTHUBHOSTNAME are not set. Exiting...\\n2021-08-02T07:39:04,445405000+00:00 - iot-server/finish 1 0\\n2021-08-02T07:39:04,449731900+00:00 - Exit code 1 is normal. Not restarting iot-server.\\nStarting gunicorn 20.1.0\\nListening at: http://127.0.0.1:31311 (64)\\nUsing worker: sync\\nworker timeout is set to 300\\nBooting worker with pid: 92\\nSPARK_HOME not set. Skipping PySpark Initialization.\\nGenerating new fontManager, this may take some time...\\nInitializing logger\\n2021-08-02 07:39:07,282 | root | INFO | Starting up app insights client\\nlogging socket was found. logging is available.\\nlogging socket was found. logging is available.\\n2021-08-02 07:39:07,283 | root | INFO | Starting up request id generator\\n2021-08-02 07:39:07,283 | root | INFO | Starting up app insight hooks\\n2021-08-02 07:39:07,284 | root | INFO | Invoking user\\'s init function\\n2021-08-02 07:39:12,746 | azureml.core | WARNING | Failure while loading azureml_run_type_providers. Failed to load entrypoint automl = azureml.train.automl.run:AutoMLRun._from_run_dto with exception cannot import name \\'RunType\\'.\\nFailure while loading azureml_run_type_providers. Failed to load entrypoint automl = azureml.train.automl.run:AutoMLRun._from_run_dto with exception cannot import name \\'RunType\\'.\\n2021-08-02 07:39:12,918 | root | INFO | Users\\'s init has completed successfully\\n2021-08-02 07:39:12,926 | root | INFO | Skipping middleware: dbg_model_info as it\\'s not enabled.\\n2021-08-02 07:39:12,926 | root | INFO | Skipping middleware: dbg_resource_usage as it\\'s not enabled.\\n2021-08-02 07:39:12,955 | root | INFO | Scoring timeout is found from os.environ: 60000 ms\\n2021-08-02 07:39:20,038 | root | INFO | 200\\n127.0.0.1 - - [02/Aug/2021:07:39:20 +0000] \"GET /swagger.json HTTP/1.0\" 200 3045 \"-\" \"Go-http-client/1.1\"\\n2021-08-02 07:39:24,741 | root | INFO | 200\\n127.0.0.1 - - [02/Aug/2021:07:39:24 +0000] \"GET /swagger.json HTTP/1.0\" 200 3045 \"-\" \"Go-http-client/1.1\"\\n2021-08-02 07:39:40,080 | root | INFO | 200\\n127.0.0.1 - - [02/Aug/2021:07:39:40 +0000] \"GET /swagger.json HTTP/1.0\" 200 3045 \"-\" \"Go-http-client/1.1\"\\n2021-08-02 07:39:44,176 | root | INFO | 200\\n127.0.0.1 - - [02/Aug/2021:07:39:44 +0000] \"GET /swagger.json HTTP/1.0\" 200 3045 \"-\" \"Go-http-client/1.1\"\\n2021-08-02 07:40:13,251 | root | INFO | 200\\n127.0.0.1 - - [02/Aug/2021:07:40:13 +0000] \"GET /swagger.json HTTP/1.0\" 200 3045 \"-\" \"Go-http-client/1.1\"\\n2021-08-02 07:49:17,779 | root | INFO | Validation Request Content-Type\\n2021-08-02 07:49:17,782 | root | INFO | Scoring Timer is set to 60.0 seconds\\n2021-08-02 07:49:18,040 | root | INFO | 200\\n127.0.0.1 - - [02/Aug/2021:07:49:18 +0000] \"POST /score HTTP/1.0\" 200 907 \"-\" \"python-requests/2.25.1\"\\n127.0.0.1 - - [02/Aug/2021:07:51:32 +0000] \"GET /config/getuser?index=0 HTTP/1.0\" 404 232 \"-\" \"Mozilla/5.0 (X11; Ubuntu; Linux x86_64; rv:76.0) Gecko/20100101 Firefox/76.0\"\\n2021-08-02 08:39:32,439 | root | INFO | Validation Request Content-Type\\n2021-08-02 08:39:32,446 | root | INFO | Scoring Timer is set to 60.0 seconds\\n2021-08-02 08:39:32,723 | root | INFO | 200\\n127.0.0.1 - - [02/Aug/2021:08:39:32 +0000] \"POST /score HTTP/1.0\" 200 22 \"-\" \"python-requests/2.25.1\"\\n2021-08-02 08:42:45,620 | root | INFO | Validation Request Content-Type\\n2021-08-02 08:42:45,622 | root | INFO | Scoring Timer is set to 60.0 seconds\\n2021-08-02 08:42:45,667 | root | ERROR | Encountered Exception: Traceback (most recent call last):\\n  File \"/var/azureml-server/synchronous/routes.py\", line 64, in run_scoring\\n    response = invoke_user_with_timer(service_input, request_headers)\\n  File \"/var/azureml-server/synchronous/routes.py\", line 97, in invoke_user_with_timer\\n    result = user_main.run(**params)\\n  File \"/azureml-envs/azureml_c199a2d8511501c9bde5dfe3639e54c9/lib/python3.6/site-packages/inference_schema/schema_decorators.py\", line 57, in decorator_input\\n    kwargs[param_name] = _deserialize_input_argument(kwargs[param_name], param_type, param_name)\\n  File \"/azureml-envs/azureml_c199a2d8511501c9bde5dfe3639e54c9/lib/python3.6/site-packages/inference_schema/schema_decorators.py\", line 285, in _deserialize_input_argument\\n    input_data = param_type.deserialize_input(input_data)\\n  File \"/azureml-envs/azureml_c199a2d8511501c9bde5dfe3639e54c9/lib/python3.6/site-packages/inference_schema/parameter_types/pandas_parameter_type.py\", line 71, in deserialize_input\\n    data_frame.columns = self.sample_input.columns.copy()\\n  File \"/azureml-envs/azureml_c199a2d8511501c9bde5dfe3639e54c9/lib/python3.6/site-packages/pandas/core/generic.py\", line 5192, in __setattr__\\n    return object.__setattr__(self, name, value)\\n  File \"pandas/_libs/properties.pyx\", line 67, in pandas._libs.properties.AxisProperty.__set__\\n  File \"/azureml-envs/azureml_c199a2d8511501c9bde5dfe3639e54c9/lib/python3.6/site-packages/pandas/core/generic.py\", line 690, in _set_axis\\n    self._data.set_axis(axis, labels)\\n  File \"/azureml-envs/azureml_c199a2d8511501c9bde5dfe3639e54c9/lib/python3.6/site-packages/pandas/core/internals/managers.py\", line 183, in set_axis\\n    \"values have {new} elements\".format(old=old_len, new=new_len)\\nValueError: Length mismatch: Expected axis has 13 elements, new values have 12 elements\\n\\nDuring handling of the above exception, another exception occurred:\\n\\nTraceback (most recent call last):\\n  File \"/azureml-envs/azureml_c199a2d8511501c9bde5dfe3639e54c9/lib/python3.6/site-packages/flask/app.py\", line 1832, in full_dispatch_request\\n    rv = self.dispatch_request()\\n  File \"/azureml-envs/azureml_c199a2d8511501c9bde5dfe3639e54c9/lib/python3.6/site-packages/flask/app.py\", line 1818, in dispatch_request\\n    return self.view_functions[rule.endpoint](**req.view_args)\\n  File \"/var/azureml-server/synchronous/routes.py\", line 43, in score_realtime\\n    return run_scoring(service_input, request.headers, request.environ.get(\\'REQUEST_ID\\', \\'00000000-0000-0000-0000-000000000000\\'))\\n  File \"/var/azureml-server/synchronous/routes.py\", line 77, in run_scoring\\n    raise RunFunctionException(str(exc))\\nrun_function_exception.RunFunctionException\\n\\n2021-08-02 08:42:45,667 | root | INFO | 500\\n127.0.0.1 - - [02/Aug/2021:08:42:45 +0000] \"POST /score HTTP/1.0\" 500 75 \"-\" \"python-requests/2.25.1\"\\n2021-08-02 08:42:45,678 | root | INFO | Validation Request Content-Type\\n2021-08-02 08:42:45,679 | root | INFO | Scoring Timer is set to 60.0 seconds\\n2021-08-02 08:42:45,709 | root | ERROR | Encountered Exception: Traceback (most recent call last):\\n  File \"/var/azureml-server/synchronous/routes.py\", line 64, in run_scoring\\n    response = invoke_user_with_timer(service_input, request_headers)\\n  File \"/var/azureml-server/synchronous/routes.py\", line 97, in invoke_user_with_timer\\n    result = user_main.run(**params)\\n  File \"/azureml-envs/azureml_c199a2d8511501c9bde5dfe3639e54c9/lib/python3.6/site-packages/inference_schema/schema_decorators.py\", line 57, in decorator_input\\n    kwargs[param_name] = _deserialize_input_argument(kwargs[param_name], param_type, param_name)\\n  File \"/azureml-envs/azureml_c199a2d8511501c9bde5dfe3639e54c9/lib/python3.6/site-packages/inference_schema/schema_decorators.py\", line 285, in _deserialize_input_argument\\n    input_data = param_type.deserialize_input(input_data)\\n  File \"/azureml-envs/azureml_c199a2d8511501c9bde5dfe3639e54c9/lib/python3.6/site-packages/inference_schema/parameter_types/pandas_parameter_type.py\", line 71, in deserialize_input\\n    data_frame.columns = self.sample_input.columns.copy()\\n  File \"/azureml-envs/azureml_c199a2d8511501c9bde5dfe3639e54c9/lib/python3.6/site-packages/pandas/core/generic.py\", line 5192, in __setattr__\\n    return object.__setattr__(self, name, value)\\n  File \"pandas/_libs/properties.pyx\", line 67, in pandas._libs.properties.AxisProperty.__set__\\n  File \"/azureml-envs/azureml_c199a2d8511501c9bde5dfe3639e54c9/lib/python3.6/site-packages/pandas/core/generic.py\", line 690, in _set_axis\\n    self._data.set_axis(axis, labels)\\n  File \"/azureml-envs/azureml_c199a2d8511501c9bde5dfe3639e54c9/lib/python3.6/site-packages/pandas/core/internals/managers.py\", line 183, in set_axis\\n    \"values have {new} elements\".format(old=old_len, new=new_len)\\nValueError: Length mismatch: Expected axis has 13 elements, new values have 12 elements\\n\\nDuring handling of the above exception, another exception occurred:\\n\\nTraceback (most recent call last):\\n  File \"/azureml-envs/azureml_c199a2d8511501c9bde5dfe3639e54c9/lib/python3.6/site-packages/flask/app.py\", line 1832, in full_dispatch_request\\n    rv = self.dispatch_request()\\n  File \"/azureml-envs/azureml_c199a2d8511501c9bde5dfe3639e54c9/lib/python3.6/site-packages/flask/app.py\", line 1818, in dispatch_request\\n    return self.view_functions[rule.endpoint](**req.view_args)\\n  File \"/var/azureml-server/synchronous/routes.py\", line 43, in score_realtime\\n    return run_scoring(service_input, request.headers, request.environ.get(\\'REQUEST_ID\\', \\'00000000-0000-0000-0000-000000000000\\'))\\n  File \"/var/azureml-server/synchronous/routes.py\", line 77, in run_scoring\\n    raise RunFunctionException(str(exc))\\nrun_function_exception.RunFunctionException\\n\\n2021-08-02 08:42:45,709 | root | INFO | 500\\n127.0.0.1 - - [02/Aug/2021:08:42:45 +0000] \"POST /score HTTP/1.0\" 500 75 \"-\" \"python-requests/2.25.1\"\\n2021-08-02 08:42:46,723 | root | INFO | Validation Request Content-Type\\n2021-08-02 08:42:46,724 | root | INFO | Scoring Timer is set to 60.0 seconds\\n2021-08-02 08:42:46,751 | root | ERROR | Encountered Exception: Traceback (most recent call last):\\n  File \"/var/azureml-server/synchronous/routes.py\", line 64, in run_scoring\\n    response = invoke_user_with_timer(service_input, request_headers)\\n  File \"/var/azureml-server/synchronous/routes.py\", line 97, in invoke_user_with_timer\\n    result = user_main.run(**params)\\n  File \"/azureml-envs/azureml_c199a2d8511501c9bde5dfe3639e54c9/lib/python3.6/site-packages/inference_schema/schema_decorators.py\", line 57, in decorator_input\\n    kwargs[param_name] = _deserialize_input_argument(kwargs[param_name], param_type, param_name)\\n  File \"/azureml-envs/azureml_c199a2d8511501c9bde5dfe3639e54c9/lib/python3.6/site-packages/inference_schema/schema_decorators.py\", line 285, in _deserialize_input_argument\\n    input_data = param_type.deserialize_input(input_data)\\n  File \"/azureml-envs/azureml_c199a2d8511501c9bde5dfe3639e54c9/lib/python3.6/site-packages/inference_schema/parameter_types/pandas_parameter_type.py\", line 71, in deserialize_input\\n    data_frame.columns = self.sample_input.columns.copy()\\n  File \"/azureml-envs/azureml_c199a2d8511501c9bde5dfe3639e54c9/lib/python3.6/site-packages/pandas/core/generic.py\", line 5192, in __setattr__\\n    return object.__setattr__(self, name, value)\\n  File \"pandas/_libs/properties.pyx\", line 67, in pandas._libs.properties.AxisProperty.__set__\\n  File \"/azureml-envs/azureml_c199a2d8511501c9bde5dfe3639e54c9/lib/python3.6/site-packages/pandas/core/generic.py\", line 690, in _set_axis\\n    self._data.set_axis(axis, labels)\\n  File \"/azureml-envs/azureml_c199a2d8511501c9bde5dfe3639e54c9/lib/python3.6/site-packages/pandas/core/internals/managers.py\", line 183, in set_axis\\n    \"values have {new} elements\".format(old=old_len, new=new_len)\\nValueError: Length mismatch: Expected axis has 13 elements, new values have 12 elements\\n\\nDuring handling of the above exception, another exception occurred:\\n\\nTraceback (most recent call last):\\n  File \"/azureml-envs/azureml_c199a2d8511501c9bde5dfe3639e54c9/lib/python3.6/site-packages/flask/app.py\", line 1832, in full_dispatch_request\\n    rv = self.dispatch_request()\\n  File \"/azureml-envs/azureml_c199a2d8511501c9bde5dfe3639e54c9/lib/python3.6/site-packages/flask/app.py\", line 1818, in dispatch_request\\n    return self.view_functions[rule.endpoint](**req.view_args)\\n  File \"/var/azureml-server/synchronous/routes.py\", line 43, in score_realtime\\n    return run_scoring(service_input, request.headers, request.environ.get(\\'REQUEST_ID\\', \\'00000000-0000-0000-0000-000000000000\\'))\\n  File \"/var/azureml-server/synchronous/routes.py\", line 77, in run_scoring\\n    raise RunFunctionException(str(exc))\\nrun_function_exception.RunFunctionException\\n\\n2021-08-02 08:42:46,751 | root | INFO | 500\\n127.0.0.1 - - [02/Aug/2021:08:42:46 +0000] \"POST /score HTTP/1.0\" 500 75 \"-\" \"python-requests/2.25.1\"\\n2021-08-02 08:42:48,798 | root | INFO | Validation Request Content-Type\\n2021-08-02 08:42:48,798 | root | INFO | Scoring Timer is set to 60.0 seconds\\n2021-08-02 08:42:48,826 | root | ERROR | Encountered Exception: Traceback (most recent call last):\\n  File \"/var/azureml-server/synchronous/routes.py\", line 64, in run_scoring\\n    response = invoke_user_with_timer(service_input, request_headers)\\n  File \"/var/azureml-server/synchronous/routes.py\", line 97, in invoke_user_with_timer\\n    result = user_main.run(**params)\\n  File \"/azureml-envs/azureml_c199a2d8511501c9bde5dfe3639e54c9/lib/python3.6/site-packages/inference_schema/schema_decorators.py\", line 57, in decorator_input\\n    kwargs[param_name] = _deserialize_input_argument(kwargs[param_name], param_type, param_name)\\n  File \"/azureml-envs/azureml_c199a2d8511501c9bde5dfe3639e54c9/lib/python3.6/site-packages/inference_schema/schema_decorators.py\", line 285, in _deserialize_input_argument\\n    input_data = param_type.deserialize_input(input_data)\\n  File \"/azureml-envs/azureml_c199a2d8511501c9bde5dfe3639e54c9/lib/python3.6/site-packages/inference_schema/parameter_types/pandas_parameter_type.py\", line 71, in deserialize_input\\n    data_frame.columns = self.sample_input.columns.copy()\\n  File \"/azureml-envs/azureml_c199a2d8511501c9bde5dfe3639e54c9/lib/python3.6/site-packages/pandas/core/generic.py\", line 5192, in __setattr__\\n    return object.__setattr__(self, name, value)\\n  File \"pandas/_libs/properties.pyx\", line 67, in pandas._libs.properties.AxisProperty.__set__\\n  File \"/azureml-envs/azureml_c199a2d8511501c9bde5dfe3639e54c9/lib/python3.6/site-packages/pandas/core/generic.py\", line 690, in _set_axis\\n    self._data.set_axis(axis, labels)\\n  File \"/azureml-envs/azureml_c199a2d8511501c9bde5dfe3639e54c9/lib/python3.6/site-packages/pandas/core/internals/managers.py\", line 183, in set_axis\\n    \"values have {new} elements\".format(old=old_len, new=new_len)\\nValueError: Length mismatch: Expected axis has 13 elements, new values have 12 elements\\n\\nDuring handling of the above exception, another exception occurred:\\n\\nTraceback (most recent call last):\\n  File \"/azureml-envs/azureml_c199a2d8511501c9bde5dfe3639e54c9/lib/python3.6/site-packages/flask/app.py\", line 1832, in full_dispatch_request\\n    rv = self.dispatch_request()\\n  File \"/azureml-envs/azureml_c199a2d8511501c9bde5dfe3639e54c9/lib/python3.6/site-packages/flask/app.py\", line 1818, in dispatch_request\\n    return self.view_functions[rule.endpoint](**req.view_args)\\n  File \"/var/azureml-server/synchronous/routes.py\", line 43, in score_realtime\\n    return run_scoring(service_input, request.headers, request.environ.get(\\'REQUEST_ID\\', \\'00000000-0000-0000-0000-000000000000\\'))\\n  File \"/var/azureml-server/synchronous/routes.py\", line 77, in run_scoring\\n    raise RunFunctionException(str(exc))\\nrun_function_exception.RunFunctionException\\n\\n2021-08-02 08:42:48,827 | root | INFO | 500\\n127.0.0.1 - - [02/Aug/2021:08:42:48 +0000] \"POST /score HTTP/1.0\" 500 75 \"-\" \"python-requests/2.25.1\"\\n'"
          },
          "metadata": {}
        }
      ],
      "execution_count": 36,
      "metadata": {
        "jupyter": {
          "outputs_hidden": false,
          "source_hidden": false
        },
        "nteract": {
          "transient": {
            "deleting": false
          }
        },
        "gather": {
          "logged": 1627893782520
        }
      }
    },
    {
      "cell_type": "code",
      "source": [
        "#Deleting the WebService\r\n",
        "aci_service.delete()"
      ],
      "outputs": [],
      "execution_count": 53,
      "metadata": {
        "collapsed": true,
        "jupyter": {
          "source_hidden": false,
          "outputs_hidden": false
        },
        "nteract": {
          "transient": {
            "deleting": false
          }
        },
        "gather": {
          "logged": 1627381468158
        }
      }
    }
  ],
  "metadata": {
    "kernel_info": {
      "name": "python3-azureml"
    },
    "kernelspec": {
      "name": "python3-azureml",
      "language": "python",
      "display_name": "Python 3.6 - AzureML"
    },
    "language_info": {
      "name": "python",
      "version": "3.6.9",
      "mimetype": "text/x-python",
      "codemirror_mode": {
        "name": "ipython",
        "version": 3
      },
      "pygments_lexer": "ipython3",
      "nbconvert_exporter": "python",
      "file_extension": ".py"
    },
    "nteract": {
      "version": "nteract-front-end@1.0.0"
    },
    "microsoft": {
      "host": {
        "AzureML": {
          "notebookHasBeenCompleted": true
        }
      }
    }
  },
  "nbformat": 4,
  "nbformat_minor": 2
}